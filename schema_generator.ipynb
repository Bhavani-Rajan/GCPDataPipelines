{
 "cells": [
  {
   "cell_type": "code",
   "execution_count": 1,
   "id": "3feedcc8-0743-4dec-87c4-6c274975834b",
   "metadata": {},
   "outputs": [],
   "source": [
    "import logging\n",
    "import apache_beam as beam\n",
    "import apache_beam.io.gcp.bigquery as bq"
   ]
  },
  {
   "cell_type": "code",
   "execution_count": 2,
   "id": "2ab03666-fd5e-4abe-8119-3729db0c0806",
   "metadata": {},
   "outputs": [],
   "source": [
    "from apache_beam.runners.interactive.interactive_runner import InteractiveRunner\n",
    "import apache_beam.runners.interactive.interactive_beam as ib"
   ]
  },
  {
   "cell_type": "code",
   "execution_count": 3,
   "id": "eb203843-0fe3-4a1d-aa36-db64519271d0",
   "metadata": {},
   "outputs": [],
   "source": [
    "INPUT_PROJECT_ID =\"my-bq-demo\"\n",
    "INPUT_DATASET_ID=\"input\"\n",
    "INPUT_TABLE_ID=\"input_for_transpose\"\n",
    "OUTPUT_PROJECT_ID =\"my-bq-demo\"\n",
    "OUTPUT_DATASET_ID=\"output\"\n",
    "OUTPUT_TABLE_ID=\"transposed\""
   ]
  },
  {
   "cell_type": "code",
   "execution_count": 197,
   "id": "cbd81970-f53f-4cea-b720-9523379d39de",
   "metadata": {},
   "outputs": [],
   "source": [
    "INPUT_SCHEMA = {\n",
    "    'fields': [{\n",
    "        'name': 'ID', \n",
    "        'type': 'INTEGER', \n",
    "        'mode': 'REQUIRED'\n",
    "    }, \n",
    "    {\n",
    "        'name': 'CLASS', \n",
    "        'type': 'STRING', \n",
    "        'mode': 'NULLABLE'\n",
    "    },\n",
    "    {\n",
    "        'name': 'SALES', \n",
    "        'type': 'FLOAT', \n",
    "        'mode': 'NULLABLE'\n",
    "        }]\n",
    "        }\n",
    "\n",
    "key_field = ['ID']\n",
    "pivot_field = ['CLASS']\n",
    "value_field = ['SALES']\n"
   ]
  },
  {
   "cell_type": "code",
   "execution_count": 198,
   "id": "271299db-df4d-459f-989d-fec9454c95bd",
   "metadata": {},
   "outputs": [],
   "source": [
    "# OUTPUT_SCHEMA = {'fields':[]}"
   ]
  },
  {
   "cell_type": "code",
   "execution_count": 199,
   "id": "0cab426b-3845-4d9f-8f6a-db93264e3ebe",
   "metadata": {},
   "outputs": [],
   "source": [
    "def generateSchemaFromInput(input_schema,key_field,value_field):\n",
    "    key_schema = {}\n",
    "    value_schema = {}\n",
    "    for d in input_schema['fields']:\n",
    "        for field in key_field:\n",
    "            if d['name'] == field:\n",
    "                key_schema[field] = d['type']\n",
    "        for field in value_field:\n",
    "            if d['name'] == field:\n",
    "                value_schema[field] = d['type']\n",
    "    return key_schema,value_schema"
   ]
  },
  {
   "cell_type": "code",
   "execution_count": 200,
   "id": "cad0d709-cc31-4991-9c99-7bd64950c140",
   "metadata": {},
   "outputs": [],
   "source": [
    "class getKeySchema(beam.DoFn):\n",
    "    def process(self, element, key_schema):\n",
    "        rt_dict={}\n",
    "        rt_dict['mode'] = 'REQUIRED'\n",
    "        rt_dict['name'] = element\n",
    "        rt_dict['type'] = key_schema[element]\n",
    "        yield rt_dict\n",
    "    "
   ]
  },
  {
   "cell_type": "code",
   "execution_count": 201,
   "id": "ac2e81f9-de5c-46e6-86ea-9a15d0440df7",
   "metadata": {},
   "outputs": [],
   "source": [
    "class GetPivotValues(beam.DoFn):\n",
    "    def process(self, element):\n",
    "        # print(element)\n",
    "        rt_elem = {}\n",
    "        row = element\n",
    "        for field in pivot_field:\n",
    "            rt_elem = (field, row[field])\n",
    "            yield rt_elem"
   ]
  },
  {
   "cell_type": "code",
   "execution_count": 202,
   "id": "091207d5-7575-4d91-8d68-bbf5af8b4cc5",
   "metadata": {},
   "outputs": [],
   "source": [
    "class UniqueList(beam.DoFn):\n",
    "    def process(self, element):\n",
    "        rt_elem =  list(set(element[1])) \n",
    "        yield rt_elem"
   ]
  },
  {
   "cell_type": "code",
   "execution_count": 203,
   "id": "63dd10da-dd55-4d4c-bf0d-fd327c861122",
   "metadata": {},
   "outputs": [],
   "source": [
    "class FoldPivotValues(beam.DoFn):\n",
    "    def process(self, element,value_schema):\n",
    "        val_key = value_schema.keys()\n",
    "        rt_dict={}\n",
    "        rt_dict['mode'] = 'NULLABLE'\n",
    "        for piv in element:\n",
    "            for val in val_key:\n",
    "                name = f\"{piv}_{val}\"\n",
    "                rt_dict['name'] = name\n",
    "                rt_dict['type'] = value_schema[val]\n",
    "                yield rt_dict"
   ]
  },
  {
   "cell_type": "code",
   "execution_count": 207,
   "id": "92639ed1-e97d-41ed-af48-85d3e5511004",
   "metadata": {},
   "outputs": [],
   "source": [
    "class SplitAsKV(beam.DoFn):\n",
    "    def process(self,element):\n",
    "        d = {}\n",
    "        key = \"\"\n",
    "        for k in key_field:\n",
    "            d[k] = element[k]\n",
    "            key  += str(element[k])\n",
    "        for piv in pivot_list:\n",
    "            for val in value_list:\n",
    "                name = f\"{element[piv]}_{val}\"\n",
    "                d[name] = element[val]\n",
    "        yield (key,d)"
   ]
  },
  {
   "cell_type": "code",
   "execution_count": 205,
   "id": "a7131b85-6380-47ac-b87f-2a5c2b16cf41",
   "metadata": {},
   "outputs": [],
   "source": [
    "class CreateTableRow(beam.DoFn):\n",
    "    def process(self,element):\n",
    "        d = {}\n",
    "        for elem_d in element[1]:\n",
    "            for k in elem_d.keys():\n",
    "                d[k] = elem_d[k]\n",
    "        yield d"
   ]
  },
  {
   "cell_type": "code",
   "execution_count": 233,
   "id": "e339e716-d8f6-4c81-8c5f-c5645b8e112e",
   "metadata": {},
   "outputs": [],
   "source": [
    "def addFieldsToOutputSchema(element):\n",
    "    print(f\"inside add fields {element} \")\n",
    "    # dynamic_schema = bigquery.TableFieldSchema()\n",
    "    # dynamic_schema.name = element.name\n",
    "    # dynamic_schema.type = element.type\n",
    "    # dynamic_schema.mode = element.mode\n",
    "    OUTPUT_SCHEMA['fields'].append(element)\n",
    "    return None"
   ]
  },
  {
   "cell_type": "code",
   "execution_count": null,
   "id": "3bdc92d7-f228-4535-b5da-82fe0f47ea50",
   "metadata": {},
   "outputs": [],
   "source": []
  },
  {
   "cell_type": "code",
   "execution_count": 223,
   "id": "32295706-3c2f-40ce-ae02-086dda6f5b3b",
   "metadata": {},
   "outputs": [],
   "source": [
    "OUTPUT_SCHEMA = {'fields':[ ]}"
   ]
  },
  {
   "cell_type": "code",
   "execution_count": 235,
   "id": "0ef52911-7f9d-4995-8989-a9e38346e93a",
   "metadata": {},
   "outputs": [
    {
     "name": "stdout",
     "output_type": "stream",
     "text": [
      "{'fields': []}\n",
      "inside add fields {'mode': 'NULLABLE', 'name': 'AAA_SALES', 'type': 'FLOAT'} \n",
      "{'fields': [{'mode': 'NULLABLE', 'name': 'AAA_SALES', 'type': 'FLOAT'}]}\n"
     ]
    }
   ],
   "source": [
    "OUTPUT_SCHEMA = {}\n",
    "OUTPUT_SCHEMA['fields'] = []\n",
    "print(OUTPUT_SCHEMA)\n",
    "d = {'mode': 'NULLABLE', 'name': 'AAA_SALES', 'type': 'FLOAT'}\n",
    "addFieldsToOutputSchema(d)\n",
    "print(OUTPUT_SCHEMA)"
   ]
  },
  {
   "cell_type": "code",
   "execution_count": null,
   "id": "5d5742be-ff31-4ca6-a4e3-6a04405daceb",
   "metadata": {},
   "outputs": [],
   "source": []
  },
  {
   "cell_type": "code",
   "execution_count": null,
   "id": "5670d6e7-c38f-4ca0-bbdd-271b631b86fd",
   "metadata": {},
   "outputs": [],
   "source": []
  },
  {
   "cell_type": "code",
   "execution_count": 10,
   "id": "63c1e180-fcfa-4b48-bc1b-a8741d3cf955",
   "metadata": {},
   "outputs": [],
   "source": []
  },
  {
   "cell_type": "code",
   "execution_count": 71,
   "id": "75ba930f-9520-473a-a8c4-c764ce702355",
   "metadata": {},
   "outputs": [],
   "source": []
  },
  {
   "cell_type": "code",
   "execution_count": null,
   "id": "73656580-06f5-4db4-9af3-32146805afa0",
   "metadata": {},
   "outputs": [],
   "source": []
  },
  {
   "cell_type": "code",
   "execution_count": 69,
   "id": "c0fb29d1-23c8-4edc-9c7b-64b33fb6586d",
   "metadata": {},
   "outputs": [],
   "source": []
  },
  {
   "cell_type": "code",
   "execution_count": 70,
   "id": "b6f830e2-52c7-4ed3-a149-39658efad97e",
   "metadata": {},
   "outputs": [],
   "source": []
  },
  {
   "cell_type": "code",
   "execution_count": 236,
   "id": "fa8bc6a8-010f-43c3-9bd6-3799bf677e37",
   "metadata": {},
   "outputs": [
    {
     "name": "stdout",
     "output_type": "stream",
     "text": [
      "{'fields': []}\n",
      "{'fields': [{'name': 'ID', 'type': 'INTEGER', 'mode': 'REQUIRED'}, {'name': 'CLASS', 'type': 'STRING', 'mode': 'NULLABLE'}, {'name': 'SALES', 'type': 'FLOAT', 'mode': 'NULLABLE'}]}\n",
      "{'fields': []}\n",
      "{'ID': 'INTEGER'}\n"
     ]
    },
    {
     "name": "stderr",
     "output_type": "stream",
     "text": [
      "WARNING:root:Make sure that locally built Python SDK docker image has Python 3.7 interpreter.\n"
     ]
    },
    {
     "name": "stdout",
     "output_type": "stream",
     "text": [
      "inside add fields {'mode': 'NULLABLE', 'name': 'AAA_SALES', 'type': 'FLOAT'} \n",
      "inside add fields {'mode': 'NULLABLE', 'name': 'BBB_SALES', 'type': 'FLOAT'} \n",
      "inside add fields {'mode': 'REQUIRED', 'name': 'ID', 'type': 'INTEGER'} \n"
     ]
    }
   ],
   "source": [
    "OUTPUT_SCHEMA = {}\n",
    "OUTPUT_SCHEMA['fields'] = []\n",
    "print(OUTPUT_SCHEMA)\n",
    "print(INPUT_SCHEMA)\n",
    "key_schema,value_schema = generateSchemaFromInput(INPUT_SCHEMA,key_field,value_field)\n",
    "# addKeyFieldToOutputSchema(key_field, key_schema)\n",
    "print(OUTPUT_SCHEMA)\n",
    "print(key_schema)\n",
    "with beam.Pipeline(InteractiveRunner()) as p:\n",
    "\n",
    "        input_table = ( p \n",
    "                    | \"Read BigQuery table\" >>  beam.Create(\n",
    "                         [{\"ID\":123, \"CLASS\": \"AAA\", \"SALES\":101.44},\n",
    "                        {\"ID\":123, \"CLASS\": \"BBB\", \"SALES\":345.44},\n",
    "                        {\"ID\":1234, \"CLASS\": \"AAA\", \"SALES\":458.44}]\n",
    "                        )\n",
    "                    )\n",
    "        key_schema = ( p | \"Read the id fields from key field\" >> beam.Create(\n",
    "                        key_field )\n",
    "                      | \"Add Key field\" >> beam.ParDo(getKeySchema(),key_schema= key_schema)\n",
    "                      # | \"Distinct Values\" >> beam.Distinct()\n",
    "                     )\n",
    "        \n",
    "        pivoted_schema = ( input_table\n",
    "                  | \"Get Pivot Schema\" >> beam.ParDo(GetPivotValues())        \n",
    "                  | \"Group by pivot field\" >> beam.GroupByKey()\n",
    "                  | \"Get unique list\" >> beam.ParDo(UniqueList())\n",
    "                  | \"Fold pivot values to columns\" >> beam.ParDo(\n",
    "                        FoldPivotValues(),value_schema= value_schema)\n",
    "                       )\n",
    "        dynamic_schema = ( (key_schema,pivoted_schema) \n",
    "                            | \"Merge two schema\" >> beam.Flatten()\n",
    "                          | \"Add to output table schema\" >> beam.Map(addFieldsToOutputSchema)\n",
    "                         )\n",
    "        \n",
    "        \n",
    "        table_row = ( input_table\n",
    "                  | \"Split as Key Value\" >> beam.ParDo(SplitAsKV())\n",
    "                    | \"Group by key\" >> beam.GroupByKey()\n",
    "                  | \"Create the table row\" >> beam.ParDo(CreateTableRow())\n",
    "                       )\n",
    "        \n",
    "#         pivot_rows = ( input_table \n",
    "#                        | \"Separate key fields\" >> beam.Map(separateKeyValue)\n",
    "#                      )\n",
    "        \n",
    "        "
   ]
  },
  {
   "cell_type": "code",
   "execution_count": 237,
   "id": "12c8f4f1-330a-442d-aef3-6f5991bdf50d",
   "metadata": {},
   "outputs": [
    {
     "name": "stdout",
     "output_type": "stream",
     "text": [
      "{'fields': [{'mode': 'NULLABLE', 'name': 'AAA_SALES', 'type': 'FLOAT'}, {'mode': 'NULLABLE', 'name': 'BBB_SALES', 'type': 'FLOAT'}, {'mode': 'REQUIRED', 'name': 'ID', 'type': 'INTEGER'}]}\n"
     ]
    }
   ],
   "source": [
    "print(OUTPUT_SCHEMA)"
   ]
  },
  {
   "cell_type": "code",
   "execution_count": 209,
   "id": "30be8d53-063d-40c4-a920-289a37fc834b",
   "metadata": {},
   "outputs": [
    {
     "data": {
      "text/html": [
       "\n",
       "            <link rel=\"stylesheet\" href=\"https://stackpath.bootstrapcdn.com/bootstrap/4.4.1/css/bootstrap.min.css\" integrity=\"sha384-Vkoo8x4CGsO3+Hhxv8T/Q5PaXtkKtu6ug5TOeNV6gBiFeWPGFN9MuhOf23Q9Ifjh\" crossorigin=\"anonymous\">\n",
       "            <div id=\"progress_indicator_95e9049464ac35231cf55c4129a7d7f3\" class=\"spinner-border text-info\" role=\"status\">\n",
       "            </div>"
      ],
      "text/plain": [
       "<IPython.core.display.HTML object>"
      ]
     },
     "metadata": {},
     "output_type": "display_data"
    },
    {
     "data": {
      "text/html": [
       "\n",
       "            <style>\n",
       "            .p-Widget.jp-OutputPrompt.jp-OutputArea-prompt:empty {\n",
       "              padding: 0;\n",
       "              border: 0;\n",
       "            }\n",
       "            .p-Widget.jp-RenderedJavaScript.jp-mod-trusted.jp-OutputArea-output:empty {\n",
       "              padding: 0;\n",
       "              border: 0;\n",
       "            }\n",
       "            </style>\n",
       "            <link rel=\"stylesheet\" href=\"https://cdn.datatables.net/1.10.20/css/jquery.dataTables.min.css\">\n",
       "            <table id=\"table_df_862ed9105cb92fa07b23ad4b2902f4a7\" class=\"display\" style=\"display:block\"></table>\n",
       "            <script>\n",
       "              \n",
       "        if (typeof window.interactive_beam_jquery == 'undefined') {\n",
       "          var jqueryScript = document.createElement('script');\n",
       "          jqueryScript.src = 'https://code.jquery.com/jquery-3.4.1.slim.min.js';\n",
       "          jqueryScript.type = 'text/javascript';\n",
       "          jqueryScript.onload = function() {\n",
       "            var datatableScript = document.createElement('script');\n",
       "            datatableScript.src = 'https://cdn.datatables.net/1.10.20/js/jquery.dataTables.min.js';\n",
       "            datatableScript.type = 'text/javascript';\n",
       "            datatableScript.onload = function() {\n",
       "              window.interactive_beam_jquery = jQuery.noConflict(true);\n",
       "              window.interactive_beam_jquery(document).ready(function($){\n",
       "                \n",
       "            var dt;\n",
       "            if ($.fn.dataTable.isDataTable(\"#table_df_862ed9105cb92fa07b23ad4b2902f4a7\")) {\n",
       "              dt = $(\"#table_df_862ed9105cb92fa07b23ad4b2902f4a7\").dataTable();\n",
       "            } else if ($(\"#table_df_862ed9105cb92fa07b23ad4b2902f4a7_wrapper\").length == 0) {\n",
       "              dt = $(\"#table_df_862ed9105cb92fa07b23ad4b2902f4a7\").dataTable({\n",
       "                \n",
       "            bAutoWidth: false,\n",
       "            columns: [{'title': ''}, {'title': 'ID'}, {'title': 'CLASS'}, {'title': 'SALES'}],\n",
       "            destroy: true,\n",
       "            responsive: true,\n",
       "            columnDefs: [\n",
       "              {\n",
       "                targets: \"_all\",\n",
       "                className: \"dt-left\"\n",
       "              },\n",
       "              {\n",
       "                \"targets\": 0,\n",
       "                \"width\": \"10px\",\n",
       "                \"title\": \"\"\n",
       "              }\n",
       "            ]\n",
       "              });\n",
       "            } else {\n",
       "              return;\n",
       "            }\n",
       "            dt.api()\n",
       "              .clear()\n",
       "              .rows.add([{1: '123', 2: 'AAA', 3: '101.44', 0: 0}, {1: '123', 2: 'BBB', 3: '345.44', 0: 1}, {1: '1234', 2: 'AAA', 3: '458.44', 0: 2}])\n",
       "              .draw('full-hold');\n",
       "              });\n",
       "            }\n",
       "            document.head.appendChild(datatableScript);\n",
       "          };\n",
       "          document.head.appendChild(jqueryScript);\n",
       "        } else {\n",
       "          window.interactive_beam_jquery(document).ready(function($){\n",
       "            \n",
       "            var dt;\n",
       "            if ($.fn.dataTable.isDataTable(\"#table_df_862ed9105cb92fa07b23ad4b2902f4a7\")) {\n",
       "              dt = $(\"#table_df_862ed9105cb92fa07b23ad4b2902f4a7\").dataTable();\n",
       "            } else if ($(\"#table_df_862ed9105cb92fa07b23ad4b2902f4a7_wrapper\").length == 0) {\n",
       "              dt = $(\"#table_df_862ed9105cb92fa07b23ad4b2902f4a7\").dataTable({\n",
       "                \n",
       "            bAutoWidth: false,\n",
       "            columns: [{'title': ''}, {'title': 'ID'}, {'title': 'CLASS'}, {'title': 'SALES'}],\n",
       "            destroy: true,\n",
       "            responsive: true,\n",
       "            columnDefs: [\n",
       "              {\n",
       "                targets: \"_all\",\n",
       "                className: \"dt-left\"\n",
       "              },\n",
       "              {\n",
       "                \"targets\": 0,\n",
       "                \"width\": \"10px\",\n",
       "                \"title\": \"\"\n",
       "              }\n",
       "            ]\n",
       "              });\n",
       "            } else {\n",
       "              return;\n",
       "            }\n",
       "            dt.api()\n",
       "              .clear()\n",
       "              .rows.add([{1: '123', 2: 'AAA', 3: '101.44', 0: 0}, {1: '123', 2: 'BBB', 3: '345.44', 0: 1}, {1: '1234', 2: 'AAA', 3: '458.44', 0: 2}])\n",
       "              .draw('full-hold');\n",
       "          });\n",
       "        }\n",
       "            </script>"
      ],
      "text/plain": [
       "<IPython.core.display.HTML object>"
      ]
     },
     "metadata": {},
     "output_type": "display_data"
    },
    {
     "data": {
      "application/javascript": [
       "\n",
       "        if (typeof window.interactive_beam_jquery == 'undefined') {\n",
       "          var jqueryScript = document.createElement('script');\n",
       "          jqueryScript.src = 'https://code.jquery.com/jquery-3.4.1.slim.min.js';\n",
       "          jqueryScript.type = 'text/javascript';\n",
       "          jqueryScript.onload = function() {\n",
       "            var datatableScript = document.createElement('script');\n",
       "            datatableScript.src = 'https://cdn.datatables.net/1.10.20/js/jquery.dataTables.min.js';\n",
       "            datatableScript.type = 'text/javascript';\n",
       "            datatableScript.onload = function() {\n",
       "              window.interactive_beam_jquery = jQuery.noConflict(true);\n",
       "              window.interactive_beam_jquery(document).ready(function($){\n",
       "                \n",
       "            $(\"#progress_indicator_95e9049464ac35231cf55c4129a7d7f3\").remove();\n",
       "              });\n",
       "            }\n",
       "            document.head.appendChild(datatableScript);\n",
       "          };\n",
       "          document.head.appendChild(jqueryScript);\n",
       "        } else {\n",
       "          window.interactive_beam_jquery(document).ready(function($){\n",
       "            \n",
       "            $(\"#progress_indicator_95e9049464ac35231cf55c4129a7d7f3\").remove();\n",
       "          });\n",
       "        }"
      ]
     },
     "metadata": {},
     "output_type": "display_data"
    }
   ],
   "source": [
    "ib.show(input_table)"
   ]
  },
  {
   "cell_type": "code",
   "execution_count": 211,
   "id": "861fbd1f-7133-4843-9baf-27ffa02881f9",
   "metadata": {},
   "outputs": [
    {
     "data": {
      "text/html": [
       "\n",
       "            <link rel=\"stylesheet\" href=\"https://stackpath.bootstrapcdn.com/bootstrap/4.4.1/css/bootstrap.min.css\" integrity=\"sha384-Vkoo8x4CGsO3+Hhxv8T/Q5PaXtkKtu6ug5TOeNV6gBiFeWPGFN9MuhOf23Q9Ifjh\" crossorigin=\"anonymous\">\n",
       "            <div id=\"progress_indicator_0612b434ebc3af3e14325aea895528e2\" class=\"spinner-border text-info\" role=\"status\">\n",
       "            </div>"
      ],
      "text/plain": [
       "<IPython.core.display.HTML object>"
      ]
     },
     "metadata": {},
     "output_type": "display_data"
    },
    {
     "data": {
      "text/html": [
       "\n",
       "            <style>\n",
       "            .p-Widget.jp-OutputPrompt.jp-OutputArea-prompt:empty {\n",
       "              padding: 0;\n",
       "              border: 0;\n",
       "            }\n",
       "            .p-Widget.jp-RenderedJavaScript.jp-mod-trusted.jp-OutputArea-output:empty {\n",
       "              padding: 0;\n",
       "              border: 0;\n",
       "            }\n",
       "            </style>\n",
       "            <link rel=\"stylesheet\" href=\"https://cdn.datatables.net/1.10.20/css/jquery.dataTables.min.css\">\n",
       "            <table id=\"table_df_1d4a295958dacc43f63a1069c56e6433\" class=\"display\" style=\"display:block\"></table>\n",
       "            <script>\n",
       "              \n",
       "        if (typeof window.interactive_beam_jquery == 'undefined') {\n",
       "          var jqueryScript = document.createElement('script');\n",
       "          jqueryScript.src = 'https://code.jquery.com/jquery-3.4.1.slim.min.js';\n",
       "          jqueryScript.type = 'text/javascript';\n",
       "          jqueryScript.onload = function() {\n",
       "            var datatableScript = document.createElement('script');\n",
       "            datatableScript.src = 'https://cdn.datatables.net/1.10.20/js/jquery.dataTables.min.js';\n",
       "            datatableScript.type = 'text/javascript';\n",
       "            datatableScript.onload = function() {\n",
       "              window.interactive_beam_jquery = jQuery.noConflict(true);\n",
       "              window.interactive_beam_jquery(document).ready(function($){\n",
       "                \n",
       "            var dt;\n",
       "            if ($.fn.dataTable.isDataTable(\"#table_df_1d4a295958dacc43f63a1069c56e6433\")) {\n",
       "              dt = $(\"#table_df_1d4a295958dacc43f63a1069c56e6433\").dataTable();\n",
       "            } else if ($(\"#table_df_1d4a295958dacc43f63a1069c56e6433_wrapper\").length == 0) {\n",
       "              dt = $(\"#table_df_1d4a295958dacc43f63a1069c56e6433\").dataTable({\n",
       "                \n",
       "            bAutoWidth: false,\n",
       "            columns: [{'title': ''}, {'title': 'ID'}, {'title': 'AAA_SALES'}, {'title': 'BBB_SALES'}],\n",
       "            destroy: true,\n",
       "            responsive: true,\n",
       "            columnDefs: [\n",
       "              {\n",
       "                targets: \"_all\",\n",
       "                className: \"dt-left\"\n",
       "              },\n",
       "              {\n",
       "                \"targets\": 0,\n",
       "                \"width\": \"10px\",\n",
       "                \"title\": \"\"\n",
       "              }\n",
       "            ]\n",
       "              });\n",
       "            } else {\n",
       "              return;\n",
       "            }\n",
       "            dt.api()\n",
       "              .clear()\n",
       "              .rows.add([{1: '123', 2: '101.44', 3: '345.44', 0: 0}, {1: '1234', 2: '458.44', 3: 'nan', 0: 1}])\n",
       "              .draw('full-hold');\n",
       "              });\n",
       "            }\n",
       "            document.head.appendChild(datatableScript);\n",
       "          };\n",
       "          document.head.appendChild(jqueryScript);\n",
       "        } else {\n",
       "          window.interactive_beam_jquery(document).ready(function($){\n",
       "            \n",
       "            var dt;\n",
       "            if ($.fn.dataTable.isDataTable(\"#table_df_1d4a295958dacc43f63a1069c56e6433\")) {\n",
       "              dt = $(\"#table_df_1d4a295958dacc43f63a1069c56e6433\").dataTable();\n",
       "            } else if ($(\"#table_df_1d4a295958dacc43f63a1069c56e6433_wrapper\").length == 0) {\n",
       "              dt = $(\"#table_df_1d4a295958dacc43f63a1069c56e6433\").dataTable({\n",
       "                \n",
       "            bAutoWidth: false,\n",
       "            columns: [{'title': ''}, {'title': 'ID'}, {'title': 'AAA_SALES'}, {'title': 'BBB_SALES'}],\n",
       "            destroy: true,\n",
       "            responsive: true,\n",
       "            columnDefs: [\n",
       "              {\n",
       "                targets: \"_all\",\n",
       "                className: \"dt-left\"\n",
       "              },\n",
       "              {\n",
       "                \"targets\": 0,\n",
       "                \"width\": \"10px\",\n",
       "                \"title\": \"\"\n",
       "              }\n",
       "            ]\n",
       "              });\n",
       "            } else {\n",
       "              return;\n",
       "            }\n",
       "            dt.api()\n",
       "              .clear()\n",
       "              .rows.add([{1: '123', 2: '101.44', 3: '345.44', 0: 0}, {1: '1234', 2: '458.44', 3: 'nan', 0: 1}])\n",
       "              .draw('full-hold');\n",
       "          });\n",
       "        }\n",
       "            </script>"
      ],
      "text/plain": [
       "<IPython.core.display.HTML object>"
      ]
     },
     "metadata": {},
     "output_type": "display_data"
    },
    {
     "data": {
      "application/javascript": [
       "\n",
       "        if (typeof window.interactive_beam_jquery == 'undefined') {\n",
       "          var jqueryScript = document.createElement('script');\n",
       "          jqueryScript.src = 'https://code.jquery.com/jquery-3.4.1.slim.min.js';\n",
       "          jqueryScript.type = 'text/javascript';\n",
       "          jqueryScript.onload = function() {\n",
       "            var datatableScript = document.createElement('script');\n",
       "            datatableScript.src = 'https://cdn.datatables.net/1.10.20/js/jquery.dataTables.min.js';\n",
       "            datatableScript.type = 'text/javascript';\n",
       "            datatableScript.onload = function() {\n",
       "              window.interactive_beam_jquery = jQuery.noConflict(true);\n",
       "              window.interactive_beam_jquery(document).ready(function($){\n",
       "                \n",
       "            $(\"#progress_indicator_0612b434ebc3af3e14325aea895528e2\").remove();\n",
       "              });\n",
       "            }\n",
       "            document.head.appendChild(datatableScript);\n",
       "          };\n",
       "          document.head.appendChild(jqueryScript);\n",
       "        } else {\n",
       "          window.interactive_beam_jquery(document).ready(function($){\n",
       "            \n",
       "            $(\"#progress_indicator_0612b434ebc3af3e14325aea895528e2\").remove();\n",
       "          });\n",
       "        }"
      ]
     },
     "metadata": {},
     "output_type": "display_data"
    }
   ],
   "source": [
    "ib.show(table_row)"
   ]
  },
  {
   "cell_type": "code",
   "execution_count": 83,
   "id": "0f63ed24-35c6-4565-a119-41a4b10144af",
   "metadata": {},
   "outputs": [
    {
     "data": {
      "text/html": [
       "\n",
       "            <link rel=\"stylesheet\" href=\"https://stackpath.bootstrapcdn.com/bootstrap/4.4.1/css/bootstrap.min.css\" integrity=\"sha384-Vkoo8x4CGsO3+Hhxv8T/Q5PaXtkKtu6ug5TOeNV6gBiFeWPGFN9MuhOf23Q9Ifjh\" crossorigin=\"anonymous\">\n",
       "            <div id=\"progress_indicator_22ca1b05f3dbb812e4ccb999a4319217\" class=\"spinner-border text-info\" role=\"status\">\n",
       "            </div>"
      ],
      "text/plain": [
       "<IPython.core.display.HTML object>"
      ]
     },
     "metadata": {},
     "output_type": "display_data"
    },
    {
     "data": {
      "text/html": [
       "\n",
       "            <style>\n",
       "            .p-Widget.jp-OutputPrompt.jp-OutputArea-prompt:empty {\n",
       "              padding: 0;\n",
       "              border: 0;\n",
       "            }\n",
       "            .p-Widget.jp-RenderedJavaScript.jp-mod-trusted.jp-OutputArea-output:empty {\n",
       "              padding: 0;\n",
       "              border: 0;\n",
       "            }\n",
       "            </style>\n",
       "            <link rel=\"stylesheet\" href=\"https://cdn.datatables.net/1.10.20/css/jquery.dataTables.min.css\">\n",
       "            <table id=\"table_df_52acc4c700b66107a613e71948312361\" class=\"display\" style=\"display:block\"></table>\n",
       "            <script>\n",
       "              \n",
       "        if (typeof window.interactive_beam_jquery == 'undefined') {\n",
       "          var jqueryScript = document.createElement('script');\n",
       "          jqueryScript.src = 'https://code.jquery.com/jquery-3.4.1.slim.min.js';\n",
       "          jqueryScript.type = 'text/javascript';\n",
       "          jqueryScript.onload = function() {\n",
       "            var datatableScript = document.createElement('script');\n",
       "            datatableScript.src = 'https://cdn.datatables.net/1.10.20/js/jquery.dataTables.min.js';\n",
       "            datatableScript.type = 'text/javascript';\n",
       "            datatableScript.onload = function() {\n",
       "              window.interactive_beam_jquery = jQuery.noConflict(true);\n",
       "              window.interactive_beam_jquery(document).ready(function($){\n",
       "                \n",
       "            var dt;\n",
       "            if ($.fn.dataTable.isDataTable(\"#table_df_52acc4c700b66107a613e71948312361\")) {\n",
       "              dt = $(\"#table_df_52acc4c700b66107a613e71948312361\").dataTable();\n",
       "            } else if ($(\"#table_df_52acc4c700b66107a613e71948312361_wrapper\").length == 0) {\n",
       "              dt = $(\"#table_df_52acc4c700b66107a613e71948312361\").dataTable({\n",
       "                \n",
       "            bAutoWidth: false,\n",
       "            columns: [{'title': ''}, {'title': 'mode'}, {'title': 'name'}, {'title': 'type'}],\n",
       "            destroy: true,\n",
       "            responsive: true,\n",
       "            columnDefs: [\n",
       "              {\n",
       "                targets: \"_all\",\n",
       "                className: \"dt-left\"\n",
       "              },\n",
       "              {\n",
       "                \"targets\": 0,\n",
       "                \"width\": \"10px\",\n",
       "                \"title\": \"\"\n",
       "              }\n",
       "            ]\n",
       "              });\n",
       "            } else {\n",
       "              return;\n",
       "            }\n",
       "            dt.api()\n",
       "              .clear()\n",
       "              .rows.add([{1: 'NULLABLE', 2: 'AAA_SALES', 3: 'FLOAT', 0: 0}, {1: 'NULLABLE', 2: 'BBB_SALES', 3: 'FLOAT', 0: 1}])\n",
       "              .draw('full-hold');\n",
       "              });\n",
       "            }\n",
       "            document.head.appendChild(datatableScript);\n",
       "          };\n",
       "          document.head.appendChild(jqueryScript);\n",
       "        } else {\n",
       "          window.interactive_beam_jquery(document).ready(function($){\n",
       "            \n",
       "            var dt;\n",
       "            if ($.fn.dataTable.isDataTable(\"#table_df_52acc4c700b66107a613e71948312361\")) {\n",
       "              dt = $(\"#table_df_52acc4c700b66107a613e71948312361\").dataTable();\n",
       "            } else if ($(\"#table_df_52acc4c700b66107a613e71948312361_wrapper\").length == 0) {\n",
       "              dt = $(\"#table_df_52acc4c700b66107a613e71948312361\").dataTable({\n",
       "                \n",
       "            bAutoWidth: false,\n",
       "            columns: [{'title': ''}, {'title': 'mode'}, {'title': 'name'}, {'title': 'type'}],\n",
       "            destroy: true,\n",
       "            responsive: true,\n",
       "            columnDefs: [\n",
       "              {\n",
       "                targets: \"_all\",\n",
       "                className: \"dt-left\"\n",
       "              },\n",
       "              {\n",
       "                \"targets\": 0,\n",
       "                \"width\": \"10px\",\n",
       "                \"title\": \"\"\n",
       "              }\n",
       "            ]\n",
       "              });\n",
       "            } else {\n",
       "              return;\n",
       "            }\n",
       "            dt.api()\n",
       "              .clear()\n",
       "              .rows.add([{1: 'NULLABLE', 2: 'AAA_SALES', 3: 'FLOAT', 0: 0}, {1: 'NULLABLE', 2: 'BBB_SALES', 3: 'FLOAT', 0: 1}])\n",
       "              .draw('full-hold');\n",
       "          });\n",
       "        }\n",
       "            </script>"
      ],
      "text/plain": [
       "<IPython.core.display.HTML object>"
      ]
     },
     "metadata": {},
     "output_type": "display_data"
    },
    {
     "data": {
      "application/javascript": [
       "\n",
       "        if (typeof window.interactive_beam_jquery == 'undefined') {\n",
       "          var jqueryScript = document.createElement('script');\n",
       "          jqueryScript.src = 'https://code.jquery.com/jquery-3.4.1.slim.min.js';\n",
       "          jqueryScript.type = 'text/javascript';\n",
       "          jqueryScript.onload = function() {\n",
       "            var datatableScript = document.createElement('script');\n",
       "            datatableScript.src = 'https://cdn.datatables.net/1.10.20/js/jquery.dataTables.min.js';\n",
       "            datatableScript.type = 'text/javascript';\n",
       "            datatableScript.onload = function() {\n",
       "              window.interactive_beam_jquery = jQuery.noConflict(true);\n",
       "              window.interactive_beam_jquery(document).ready(function($){\n",
       "                \n",
       "            $(\"#progress_indicator_22ca1b05f3dbb812e4ccb999a4319217\").remove();\n",
       "              });\n",
       "            }\n",
       "            document.head.appendChild(datatableScript);\n",
       "          };\n",
       "          document.head.appendChild(jqueryScript);\n",
       "        } else {\n",
       "          window.interactive_beam_jquery(document).ready(function($){\n",
       "            \n",
       "            $(\"#progress_indicator_22ca1b05f3dbb812e4ccb999a4319217\").remove();\n",
       "          });\n",
       "        }"
      ]
     },
     "metadata": {},
     "output_type": "display_data"
    }
   ],
   "source": [
    "ib.show(pivoted_schema)"
   ]
  },
  {
   "cell_type": "code",
   "execution_count": 84,
   "id": "dbb89dfb-b89e-4fe4-bba6-8e6e69067a11",
   "metadata": {},
   "outputs": [
    {
     "data": {
      "text/html": [
       "\n",
       "            <link rel=\"stylesheet\" href=\"https://stackpath.bootstrapcdn.com/bootstrap/4.4.1/css/bootstrap.min.css\" integrity=\"sha384-Vkoo8x4CGsO3+Hhxv8T/Q5PaXtkKtu6ug5TOeNV6gBiFeWPGFN9MuhOf23Q9Ifjh\" crossorigin=\"anonymous\">\n",
       "            <div id=\"progress_indicator_370e2fcf1791843562cc63be2a2398ef\" class=\"spinner-border text-info\" role=\"status\">\n",
       "            </div>"
      ],
      "text/plain": [
       "<IPython.core.display.HTML object>"
      ]
     },
     "metadata": {},
     "output_type": "display_data"
    },
    {
     "data": {
      "text/html": [
       "\n",
       "            <style>\n",
       "            .p-Widget.jp-OutputPrompt.jp-OutputArea-prompt:empty {\n",
       "              padding: 0;\n",
       "              border: 0;\n",
       "            }\n",
       "            .p-Widget.jp-RenderedJavaScript.jp-mod-trusted.jp-OutputArea-output:empty {\n",
       "              padding: 0;\n",
       "              border: 0;\n",
       "            }\n",
       "            </style>\n",
       "            <link rel=\"stylesheet\" href=\"https://cdn.datatables.net/1.10.20/css/jquery.dataTables.min.css\">\n",
       "            <table id=\"table_df_456e2e27a158bb8046bf07389567c53e\" class=\"display\" style=\"display:block\"></table>\n",
       "            <script>\n",
       "              \n",
       "        if (typeof window.interactive_beam_jquery == 'undefined') {\n",
       "          var jqueryScript = document.createElement('script');\n",
       "          jqueryScript.src = 'https://code.jquery.com/jquery-3.4.1.slim.min.js';\n",
       "          jqueryScript.type = 'text/javascript';\n",
       "          jqueryScript.onload = function() {\n",
       "            var datatableScript = document.createElement('script');\n",
       "            datatableScript.src = 'https://cdn.datatables.net/1.10.20/js/jquery.dataTables.min.js';\n",
       "            datatableScript.type = 'text/javascript';\n",
       "            datatableScript.onload = function() {\n",
       "              window.interactive_beam_jquery = jQuery.noConflict(true);\n",
       "              window.interactive_beam_jquery(document).ready(function($){\n",
       "                \n",
       "            var dt;\n",
       "            if ($.fn.dataTable.isDataTable(\"#table_df_456e2e27a158bb8046bf07389567c53e\")) {\n",
       "              dt = $(\"#table_df_456e2e27a158bb8046bf07389567c53e\").dataTable();\n",
       "            } else if ($(\"#table_df_456e2e27a158bb8046bf07389567c53e_wrapper\").length == 0) {\n",
       "              dt = $(\"#table_df_456e2e27a158bb8046bf07389567c53e\").dataTable({\n",
       "                \n",
       "            bAutoWidth: false,\n",
       "            columns: [{'title': ''}, {'title': 'mode'}, {'title': 'name'}, {'title': 'type'}],\n",
       "            destroy: true,\n",
       "            responsive: true,\n",
       "            columnDefs: [\n",
       "              {\n",
       "                targets: \"_all\",\n",
       "                className: \"dt-left\"\n",
       "              },\n",
       "              {\n",
       "                \"targets\": 0,\n",
       "                \"width\": \"10px\",\n",
       "                \"title\": \"\"\n",
       "              }\n",
       "            ]\n",
       "              });\n",
       "            } else {\n",
       "              return;\n",
       "            }\n",
       "            dt.api()\n",
       "              .clear()\n",
       "              .rows.add([{1: 'NULLABLE', 2: 'AAA_SALES', 3: 'FLOAT', 0: 0}, {1: 'NULLABLE', 2: 'BBB_SALES', 3: 'FLOAT', 0: 1}, {1: 'REQUIRED', 2: 'ID', 3: 'INTEGER', 0: 2}])\n",
       "              .draw('full-hold');\n",
       "              });\n",
       "            }\n",
       "            document.head.appendChild(datatableScript);\n",
       "          };\n",
       "          document.head.appendChild(jqueryScript);\n",
       "        } else {\n",
       "          window.interactive_beam_jquery(document).ready(function($){\n",
       "            \n",
       "            var dt;\n",
       "            if ($.fn.dataTable.isDataTable(\"#table_df_456e2e27a158bb8046bf07389567c53e\")) {\n",
       "              dt = $(\"#table_df_456e2e27a158bb8046bf07389567c53e\").dataTable();\n",
       "            } else if ($(\"#table_df_456e2e27a158bb8046bf07389567c53e_wrapper\").length == 0) {\n",
       "              dt = $(\"#table_df_456e2e27a158bb8046bf07389567c53e\").dataTable({\n",
       "                \n",
       "            bAutoWidth: false,\n",
       "            columns: [{'title': ''}, {'title': 'mode'}, {'title': 'name'}, {'title': 'type'}],\n",
       "            destroy: true,\n",
       "            responsive: true,\n",
       "            columnDefs: [\n",
       "              {\n",
       "                targets: \"_all\",\n",
       "                className: \"dt-left\"\n",
       "              },\n",
       "              {\n",
       "                \"targets\": 0,\n",
       "                \"width\": \"10px\",\n",
       "                \"title\": \"\"\n",
       "              }\n",
       "            ]\n",
       "              });\n",
       "            } else {\n",
       "              return;\n",
       "            }\n",
       "            dt.api()\n",
       "              .clear()\n",
       "              .rows.add([{1: 'NULLABLE', 2: 'AAA_SALES', 3: 'FLOAT', 0: 0}, {1: 'NULLABLE', 2: 'BBB_SALES', 3: 'FLOAT', 0: 1}, {1: 'REQUIRED', 2: 'ID', 3: 'INTEGER', 0: 2}])\n",
       "              .draw('full-hold');\n",
       "          });\n",
       "        }\n",
       "            </script>"
      ],
      "text/plain": [
       "<IPython.core.display.HTML object>"
      ]
     },
     "metadata": {},
     "output_type": "display_data"
    },
    {
     "data": {
      "application/javascript": [
       "\n",
       "        if (typeof window.interactive_beam_jquery == 'undefined') {\n",
       "          var jqueryScript = document.createElement('script');\n",
       "          jqueryScript.src = 'https://code.jquery.com/jquery-3.4.1.slim.min.js';\n",
       "          jqueryScript.type = 'text/javascript';\n",
       "          jqueryScript.onload = function() {\n",
       "            var datatableScript = document.createElement('script');\n",
       "            datatableScript.src = 'https://cdn.datatables.net/1.10.20/js/jquery.dataTables.min.js';\n",
       "            datatableScript.type = 'text/javascript';\n",
       "            datatableScript.onload = function() {\n",
       "              window.interactive_beam_jquery = jQuery.noConflict(true);\n",
       "              window.interactive_beam_jquery(document).ready(function($){\n",
       "                \n",
       "            $(\"#progress_indicator_370e2fcf1791843562cc63be2a2398ef\").remove();\n",
       "              });\n",
       "            }\n",
       "            document.head.appendChild(datatableScript);\n",
       "          };\n",
       "          document.head.appendChild(jqueryScript);\n",
       "        } else {\n",
       "          window.interactive_beam_jquery(document).ready(function($){\n",
       "            \n",
       "            $(\"#progress_indicator_370e2fcf1791843562cc63be2a2398ef\").remove();\n",
       "          });\n",
       "        }"
      ]
     },
     "metadata": {},
     "output_type": "display_data"
    }
   ],
   "source": [
    "ib.show(dynamic_schema)"
   ]
  },
  {
   "cell_type": "code",
   "execution_count": 57,
   "id": "aeba0b3f-d7e9-4458-bb84-61c807fde112",
   "metadata": {},
   "outputs": [
    {
     "name": "stdout",
     "output_type": "stream",
     "text": [
      "{'fields': [{'mode': 'REQUIRED', 'name': 'ID', 'type': 'INTEGER'}, {'mode': 'NULLABLE', 'name': 'AAA_SALES', 'type': 'FLOAT'}, {'mode': 'NULLABLE', 'name': 'AAA_SALES', 'type': 'FLOAT'}]}\n"
     ]
    }
   ],
   "source": [
    "print(OUTPUT_SCHEMA)"
   ]
  },
  {
   "cell_type": "code",
   "execution_count": null,
   "id": "63d9955d-b3d5-4686-853e-663f92944974",
   "metadata": {},
   "outputs": [],
   "source": [
    "'fields': [{'mode': 'REQUIRED', 'name': 'ID', 'type': 'INTEGER'}, \n",
    "           {'mode': 'NULLABLE', 'name': 'AAA_SALES', 'type': 'FLOAT'}, \n",
    "           {'mode': 'NULLABLE', 'name': 'AAA_SALES', 'type': 'FLOAT'}]}\n"
   ]
  },
  {
   "cell_type": "code",
   "execution_count": 92,
   "id": "ee037f60-51dd-470e-9fc2-8d0566623973",
   "metadata": {},
   "outputs": [],
   "source": [
    "key_list= ['ID','ID2']\n",
    "pivot_list = ['CLASS']\n",
    "value_list =['SALES']"
   ]
  },
  {
   "cell_type": "code",
   "execution_count": 151,
   "id": "5cb06b5d-2531-4686-8c49-cd5b08171e9f",
   "metadata": {},
   "outputs": [],
   "source": [
    "d = {\"ID\":123, \"ID2\":111}"
   ]
  },
  {
   "cell_type": "code",
   "execution_count": 166,
   "id": "c1607bd7-db40-4934-87a7-183ac0d43d4c",
   "metadata": {},
   "outputs": [
    {
     "name": "stdout",
     "output_type": "stream",
     "text": [
      "12323\n"
     ]
    }
   ],
   "source": [
    "i = 123\n",
    "s = str(i) + \"23\"\n",
    "print(s)"
   ]
  },
  {
   "cell_type": "code",
   "execution_count": 168,
   "id": "354cef9e-ecec-4ca4-b773-783427d90f0b",
   "metadata": {},
   "outputs": [
    {
     "name": "stdout",
     "output_type": "stream",
     "text": [
      "123111\n"
     ]
    }
   ],
   "source": [
    "s=\"\"\n",
    "for v in d.values():\n",
    "    s += str(v)\n",
    "print(s)"
   ]
  },
  {
   "cell_type": "code",
   "execution_count": 188,
   "id": "df002260-ef0b-4684-8c37-79ab11c495e0",
   "metadata": {},
   "outputs": [],
   "source": [
    "l = [{'ID': 123, 'ID2': 111, 'AAA_SALES': 101.44}, {'ID': 123, 'ID2': 111, 'BBB_SALES': 345.44}]"
   ]
  },
  {
   "cell_type": "code",
   "execution_count": 182,
   "id": "468ea5e7-1f68-485b-8750-85f8faf1736b",
   "metadata": {},
   "outputs": [],
   "source": [
    "d1 = {'ID': 123, 'ID2': 111, 'AAA_SALES': 101.44}\n",
    "d2 = {'ID': 123, 'ID2': 111, 'BBB_SALES': 345.44}"
   ]
  },
  {
   "cell_type": "code",
   "execution_count": 189,
   "id": "7ba2a1e9-18b1-49c2-a3ea-a8da955b865e",
   "metadata": {},
   "outputs": [
    {
     "name": "stdout",
     "output_type": "stream",
     "text": [
      "{'ID': 123, 'ID2': 111, 'AAA_SALES': 101.44, 'BBB_SALES': 345.44}\n"
     ]
    }
   ],
   "source": [
    "d = {}\n",
    "for di in l:\n",
    "    for k in di.keys():\n",
    "        d[k] = di[k]\n",
    "print(d)"
   ]
  },
  {
   "cell_type": "code",
   "execution_count": 186,
   "id": "e206e72e-a560-4813-a78c-dbbd5fda4cde",
   "metadata": {},
   "outputs": [
    {
     "name": "stdout",
     "output_type": "stream",
     "text": [
      "{'ID': 123, 'ID2': 111, 'BBB_SALES': 345.44}\n"
     ]
    }
   ],
   "source": [
    "print(d2)"
   ]
  },
  {
   "cell_type": "code",
   "execution_count": null,
   "id": "2c5a9f60-85fc-46b6-8ec9-8fda1315bb4c",
   "metadata": {},
   "outputs": [],
   "source": []
  },
  {
   "cell_type": "code",
   "execution_count": null,
   "id": "bd64e831-027e-4b89-a145-2ea794042524",
   "metadata": {},
   "outputs": [],
   "source": []
  },
  {
   "cell_type": "code",
   "execution_count": 169,
   "id": "901e8e9a-3b05-453d-8039-dc997114404a",
   "metadata": {},
   "outputs": [],
   "source": [
    "class SplitAsKV(beam.DoFn):\n",
    "    def process(self,element):\n",
    "        d = {}\n",
    "        key = \"\"\n",
    "        for k in key_list:\n",
    "            d[k] = element[k]\n",
    "            key  += str(element[k])\n",
    "        for piv in pivot_list:\n",
    "            for val in value_list:\n",
    "                name = f\"{element[piv]}_{val}\"\n",
    "                d[name] = element[val]\n",
    "        yield (key,d)"
   ]
  },
  {
   "cell_type": "code",
   "execution_count": 191,
   "id": "0ea8e300-5891-4b27-9635-09ad62dc4dad",
   "metadata": {},
   "outputs": [],
   "source": [
    "class CreateTableRow(beam.DoFn):\n",
    "    def process(self,element):\n",
    "        d = {}\n",
    "        for elem_d in element[1]:\n",
    "            for k in elem_d.keys():\n",
    "                d[k] = elem_d[k]\n",
    "        yield d"
   ]
  },
  {
   "cell_type": "code",
   "execution_count": null,
   "id": "6f502085-7800-4f4a-8f62-1bf648a74f13",
   "metadata": {},
   "outputs": [],
   "source": []
  },
  {
   "cell_type": "code",
   "execution_count": 193,
   "id": "3b56d197-ba84-40df-95d2-18193abe1960",
   "metadata": {},
   "outputs": [],
   "source": [
    "key_schema,value_schema = generateSchemaFromInput(INPUT_SCHEMA,key_field,value_field)\n",
    "input_table = ( p \n",
    "                    | \"Read BigQuery table\" >>  beam.Create(\n",
    "                         [{\"ID\":123, \"ID2\":111,\"CLASS\": \"AAA\", \"SALES\":101.44},\n",
    "                        {\"ID\":123, \"ID2\":111, \"CLASS\": \"BBB\", \"SALES\":345.44},\n",
    "                        {\"ID\":1234,\"ID2\":1231, \"CLASS\": \"AAA\", \"SALES\":458.44},\n",
    "                          {\"ID\":1234,\"ID2\":123, \"CLASS\": \"BBB\", \"SALES\":48.34},\n",
    "                          {\"ID\":1234,\"ID2\":123, \"CLASS\": \"AAA\", \"SALES\":418.64}\n",
    "                         ]\n",
    "                        )\n",
    "                    )\n",
    "table_row = ( input_table\n",
    "                  | \"Split as Key Value\" >> beam.ParDo(SplitAsKV())\n",
    "                    | \"Group by key\" >> beam.GroupByKey()\n",
    "                  | \"Create the table row\" >> beam.ParDo(CreateTableRow())\n",
    "                       )"
   ]
  },
  {
   "cell_type": "code",
   "execution_count": 194,
   "id": "fc53ddea-12b0-4772-8fc7-957adfbbdfdc",
   "metadata": {},
   "outputs": [
    {
     "data": {
      "text/html": [
       "\n",
       "            <link rel=\"stylesheet\" href=\"https://stackpath.bootstrapcdn.com/bootstrap/4.4.1/css/bootstrap.min.css\" integrity=\"sha384-Vkoo8x4CGsO3+Hhxv8T/Q5PaXtkKtu6ug5TOeNV6gBiFeWPGFN9MuhOf23Q9Ifjh\" crossorigin=\"anonymous\">\n",
       "            <div id=\"progress_indicator_465ed37ef9d5e73a339010f06dc3b04d\" class=\"spinner-border text-info\" role=\"status\">\n",
       "            </div>"
      ],
      "text/plain": [
       "<IPython.core.display.HTML object>"
      ]
     },
     "metadata": {},
     "output_type": "display_data"
    },
    {
     "name": "stderr",
     "output_type": "stream",
     "text": [
      "WARNING:root:Make sure that locally built Python SDK docker image has Python 3.7 interpreter.\n"
     ]
    },
    {
     "data": {
      "text/html": [
       "\n",
       "            <style>\n",
       "            .p-Widget.jp-OutputPrompt.jp-OutputArea-prompt:empty {\n",
       "              padding: 0;\n",
       "              border: 0;\n",
       "            }\n",
       "            .p-Widget.jp-RenderedJavaScript.jp-mod-trusted.jp-OutputArea-output:empty {\n",
       "              padding: 0;\n",
       "              border: 0;\n",
       "            }\n",
       "            </style>\n",
       "            <link rel=\"stylesheet\" href=\"https://cdn.datatables.net/1.10.20/css/jquery.dataTables.min.css\">\n",
       "            <table id=\"table_df_fca9ee7a5b279d875526f2eeb74d411b\" class=\"display\" style=\"display:block\"></table>\n",
       "            <script>\n",
       "              \n",
       "        if (typeof window.interactive_beam_jquery == 'undefined') {\n",
       "          var jqueryScript = document.createElement('script');\n",
       "          jqueryScript.src = 'https://code.jquery.com/jquery-3.4.1.slim.min.js';\n",
       "          jqueryScript.type = 'text/javascript';\n",
       "          jqueryScript.onload = function() {\n",
       "            var datatableScript = document.createElement('script');\n",
       "            datatableScript.src = 'https://cdn.datatables.net/1.10.20/js/jquery.dataTables.min.js';\n",
       "            datatableScript.type = 'text/javascript';\n",
       "            datatableScript.onload = function() {\n",
       "              window.interactive_beam_jquery = jQuery.noConflict(true);\n",
       "              window.interactive_beam_jquery(document).ready(function($){\n",
       "                \n",
       "            var dt;\n",
       "            if ($.fn.dataTable.isDataTable(\"#table_df_fca9ee7a5b279d875526f2eeb74d411b\")) {\n",
       "              dt = $(\"#table_df_fca9ee7a5b279d875526f2eeb74d411b\").dataTable();\n",
       "            } else if ($(\"#table_df_fca9ee7a5b279d875526f2eeb74d411b_wrapper\").length == 0) {\n",
       "              dt = $(\"#table_df_fca9ee7a5b279d875526f2eeb74d411b\").dataTable({\n",
       "                \n",
       "            bAutoWidth: false,\n",
       "            columns: [{'title': ''}, {'title': 'ID'}, {'title': 'ID2'}, {'title': 'CLASS'}, {'title': 'SALES'}],\n",
       "            destroy: true,\n",
       "            responsive: true,\n",
       "            columnDefs: [\n",
       "              {\n",
       "                targets: \"_all\",\n",
       "                className: \"dt-left\"\n",
       "              },\n",
       "              {\n",
       "                \"targets\": 0,\n",
       "                \"width\": \"10px\",\n",
       "                \"title\": \"\"\n",
       "              }\n",
       "            ]\n",
       "              });\n",
       "            } else {\n",
       "              return;\n",
       "            }\n",
       "            dt.api()\n",
       "              .clear()\n",
       "              .rows.add([{1: '123', 2: '111', 3: 'AAA', 4: '101.44', 0: 0}, {1: '123', 2: '111', 3: 'BBB', 4: '345.44', 0: 1}, {1: '1234', 2: '1231', 3: 'AAA', 4: '458.44', 0: 2}, {1: '1234', 2: '123', 3: 'BBB', 4: '48.34', 0: 3}, {1: '1234', 2: '123', 3: 'AAA', 4: '418.64', 0: 4}])\n",
       "              .draw('full-hold');\n",
       "              });\n",
       "            }\n",
       "            document.head.appendChild(datatableScript);\n",
       "          };\n",
       "          document.head.appendChild(jqueryScript);\n",
       "        } else {\n",
       "          window.interactive_beam_jquery(document).ready(function($){\n",
       "            \n",
       "            var dt;\n",
       "            if ($.fn.dataTable.isDataTable(\"#table_df_fca9ee7a5b279d875526f2eeb74d411b\")) {\n",
       "              dt = $(\"#table_df_fca9ee7a5b279d875526f2eeb74d411b\").dataTable();\n",
       "            } else if ($(\"#table_df_fca9ee7a5b279d875526f2eeb74d411b_wrapper\").length == 0) {\n",
       "              dt = $(\"#table_df_fca9ee7a5b279d875526f2eeb74d411b\").dataTable({\n",
       "                \n",
       "            bAutoWidth: false,\n",
       "            columns: [{'title': ''}, {'title': 'ID'}, {'title': 'ID2'}, {'title': 'CLASS'}, {'title': 'SALES'}],\n",
       "            destroy: true,\n",
       "            responsive: true,\n",
       "            columnDefs: [\n",
       "              {\n",
       "                targets: \"_all\",\n",
       "                className: \"dt-left\"\n",
       "              },\n",
       "              {\n",
       "                \"targets\": 0,\n",
       "                \"width\": \"10px\",\n",
       "                \"title\": \"\"\n",
       "              }\n",
       "            ]\n",
       "              });\n",
       "            } else {\n",
       "              return;\n",
       "            }\n",
       "            dt.api()\n",
       "              .clear()\n",
       "              .rows.add([{1: '123', 2: '111', 3: 'AAA', 4: '101.44', 0: 0}, {1: '123', 2: '111', 3: 'BBB', 4: '345.44', 0: 1}, {1: '1234', 2: '1231', 3: 'AAA', 4: '458.44', 0: 2}, {1: '1234', 2: '123', 3: 'BBB', 4: '48.34', 0: 3}, {1: '1234', 2: '123', 3: 'AAA', 4: '418.64', 0: 4}])\n",
       "              .draw('full-hold');\n",
       "          });\n",
       "        }\n",
       "            </script>"
      ],
      "text/plain": [
       "<IPython.core.display.HTML object>"
      ]
     },
     "metadata": {},
     "output_type": "display_data"
    },
    {
     "data": {
      "application/javascript": [
       "\n",
       "        if (typeof window.interactive_beam_jquery == 'undefined') {\n",
       "          var jqueryScript = document.createElement('script');\n",
       "          jqueryScript.src = 'https://code.jquery.com/jquery-3.4.1.slim.min.js';\n",
       "          jqueryScript.type = 'text/javascript';\n",
       "          jqueryScript.onload = function() {\n",
       "            var datatableScript = document.createElement('script');\n",
       "            datatableScript.src = 'https://cdn.datatables.net/1.10.20/js/jquery.dataTables.min.js';\n",
       "            datatableScript.type = 'text/javascript';\n",
       "            datatableScript.onload = function() {\n",
       "              window.interactive_beam_jquery = jQuery.noConflict(true);\n",
       "              window.interactive_beam_jquery(document).ready(function($){\n",
       "                \n",
       "            $(\"#progress_indicator_465ed37ef9d5e73a339010f06dc3b04d\").remove();\n",
       "              });\n",
       "            }\n",
       "            document.head.appendChild(datatableScript);\n",
       "          };\n",
       "          document.head.appendChild(jqueryScript);\n",
       "        } else {\n",
       "          window.interactive_beam_jquery(document).ready(function($){\n",
       "            \n",
       "            $(\"#progress_indicator_465ed37ef9d5e73a339010f06dc3b04d\").remove();\n",
       "          });\n",
       "        }"
      ]
     },
     "metadata": {},
     "output_type": "display_data"
    }
   ],
   "source": [
    "ib.show(input_table)"
   ]
  },
  {
   "cell_type": "code",
   "execution_count": 195,
   "id": "92815707-0aa7-4eec-a0e4-f72c0b4f849f",
   "metadata": {},
   "outputs": [
    {
     "data": {
      "text/html": [
       "\n",
       "            <link rel=\"stylesheet\" href=\"https://stackpath.bootstrapcdn.com/bootstrap/4.4.1/css/bootstrap.min.css\" integrity=\"sha384-Vkoo8x4CGsO3+Hhxv8T/Q5PaXtkKtu6ug5TOeNV6gBiFeWPGFN9MuhOf23Q9Ifjh\" crossorigin=\"anonymous\">\n",
       "            <div id=\"progress_indicator_64febfcf697ae23f98efe2547bd0c343\" class=\"spinner-border text-info\" role=\"status\">\n",
       "            </div>"
      ],
      "text/plain": [
       "<IPython.core.display.HTML object>"
      ]
     },
     "metadata": {},
     "output_type": "display_data"
    },
    {
     "name": "stderr",
     "output_type": "stream",
     "text": [
      "WARNING:root:Make sure that locally built Python SDK docker image has Python 3.7 interpreter.\n"
     ]
    },
    {
     "data": {
      "text/html": [
       "\n",
       "            <style>\n",
       "            .p-Widget.jp-OutputPrompt.jp-OutputArea-prompt:empty {\n",
       "              padding: 0;\n",
       "              border: 0;\n",
       "            }\n",
       "            .p-Widget.jp-RenderedJavaScript.jp-mod-trusted.jp-OutputArea-output:empty {\n",
       "              padding: 0;\n",
       "              border: 0;\n",
       "            }\n",
       "            </style>\n",
       "            <link rel=\"stylesheet\" href=\"https://cdn.datatables.net/1.10.20/css/jquery.dataTables.min.css\">\n",
       "            <table id=\"table_df_8e12ca58227c81ccec9c5981f716ee53\" class=\"display\" style=\"display:block\"></table>\n",
       "            <script>\n",
       "              \n",
       "        if (typeof window.interactive_beam_jquery == 'undefined') {\n",
       "          var jqueryScript = document.createElement('script');\n",
       "          jqueryScript.src = 'https://code.jquery.com/jquery-3.4.1.slim.min.js';\n",
       "          jqueryScript.type = 'text/javascript';\n",
       "          jqueryScript.onload = function() {\n",
       "            var datatableScript = document.createElement('script');\n",
       "            datatableScript.src = 'https://cdn.datatables.net/1.10.20/js/jquery.dataTables.min.js';\n",
       "            datatableScript.type = 'text/javascript';\n",
       "            datatableScript.onload = function() {\n",
       "              window.interactive_beam_jquery = jQuery.noConflict(true);\n",
       "              window.interactive_beam_jquery(document).ready(function($){\n",
       "                \n",
       "            var dt;\n",
       "            if ($.fn.dataTable.isDataTable(\"#table_df_8e12ca58227c81ccec9c5981f716ee53\")) {\n",
       "              dt = $(\"#table_df_8e12ca58227c81ccec9c5981f716ee53\").dataTable();\n",
       "            } else if ($(\"#table_df_8e12ca58227c81ccec9c5981f716ee53_wrapper\").length == 0) {\n",
       "              dt = $(\"#table_df_8e12ca58227c81ccec9c5981f716ee53\").dataTable({\n",
       "                \n",
       "            bAutoWidth: false,\n",
       "            columns: [{'title': ''}, {'title': 'ID'}, {'title': 'ID2'}, {'title': 'AAA_SALES'}, {'title': 'BBB_SALES'}],\n",
       "            destroy: true,\n",
       "            responsive: true,\n",
       "            columnDefs: [\n",
       "              {\n",
       "                targets: \"_all\",\n",
       "                className: \"dt-left\"\n",
       "              },\n",
       "              {\n",
       "                \"targets\": 0,\n",
       "                \"width\": \"10px\",\n",
       "                \"title\": \"\"\n",
       "              }\n",
       "            ]\n",
       "              });\n",
       "            } else {\n",
       "              return;\n",
       "            }\n",
       "            dt.api()\n",
       "              .clear()\n",
       "              .rows.add([{1: '123', 2: '111', 3: '101.44', 4: '345.44', 0: 0}, {1: '1234', 2: '1231', 3: '458.44', 4: 'nan', 0: 1}, {1: '1234', 2: '123', 3: '418.64', 4: '48.34', 0: 2}])\n",
       "              .draw('full-hold');\n",
       "              });\n",
       "            }\n",
       "            document.head.appendChild(datatableScript);\n",
       "          };\n",
       "          document.head.appendChild(jqueryScript);\n",
       "        } else {\n",
       "          window.interactive_beam_jquery(document).ready(function($){\n",
       "            \n",
       "            var dt;\n",
       "            if ($.fn.dataTable.isDataTable(\"#table_df_8e12ca58227c81ccec9c5981f716ee53\")) {\n",
       "              dt = $(\"#table_df_8e12ca58227c81ccec9c5981f716ee53\").dataTable();\n",
       "            } else if ($(\"#table_df_8e12ca58227c81ccec9c5981f716ee53_wrapper\").length == 0) {\n",
       "              dt = $(\"#table_df_8e12ca58227c81ccec9c5981f716ee53\").dataTable({\n",
       "                \n",
       "            bAutoWidth: false,\n",
       "            columns: [{'title': ''}, {'title': 'ID'}, {'title': 'ID2'}, {'title': 'AAA_SALES'}, {'title': 'BBB_SALES'}],\n",
       "            destroy: true,\n",
       "            responsive: true,\n",
       "            columnDefs: [\n",
       "              {\n",
       "                targets: \"_all\",\n",
       "                className: \"dt-left\"\n",
       "              },\n",
       "              {\n",
       "                \"targets\": 0,\n",
       "                \"width\": \"10px\",\n",
       "                \"title\": \"\"\n",
       "              }\n",
       "            ]\n",
       "              });\n",
       "            } else {\n",
       "              return;\n",
       "            }\n",
       "            dt.api()\n",
       "              .clear()\n",
       "              .rows.add([{1: '123', 2: '111', 3: '101.44', 4: '345.44', 0: 0}, {1: '1234', 2: '1231', 3: '458.44', 4: 'nan', 0: 1}, {1: '1234', 2: '123', 3: '418.64', 4: '48.34', 0: 2}])\n",
       "              .draw('full-hold');\n",
       "          });\n",
       "        }\n",
       "            </script>"
      ],
      "text/plain": [
       "<IPython.core.display.HTML object>"
      ]
     },
     "metadata": {},
     "output_type": "display_data"
    },
    {
     "data": {
      "application/javascript": [
       "\n",
       "        if (typeof window.interactive_beam_jquery == 'undefined') {\n",
       "          var jqueryScript = document.createElement('script');\n",
       "          jqueryScript.src = 'https://code.jquery.com/jquery-3.4.1.slim.min.js';\n",
       "          jqueryScript.type = 'text/javascript';\n",
       "          jqueryScript.onload = function() {\n",
       "            var datatableScript = document.createElement('script');\n",
       "            datatableScript.src = 'https://cdn.datatables.net/1.10.20/js/jquery.dataTables.min.js';\n",
       "            datatableScript.type = 'text/javascript';\n",
       "            datatableScript.onload = function() {\n",
       "              window.interactive_beam_jquery = jQuery.noConflict(true);\n",
       "              window.interactive_beam_jquery(document).ready(function($){\n",
       "                \n",
       "            $(\"#progress_indicator_64febfcf697ae23f98efe2547bd0c343\").remove();\n",
       "              });\n",
       "            }\n",
       "            document.head.appendChild(datatableScript);\n",
       "          };\n",
       "          document.head.appendChild(jqueryScript);\n",
       "        } else {\n",
       "          window.interactive_beam_jquery(document).ready(function($){\n",
       "            \n",
       "            $(\"#progress_indicator_64febfcf697ae23f98efe2547bd0c343\").remove();\n",
       "          });\n",
       "        }"
      ]
     },
     "metadata": {},
     "output_type": "display_data"
    }
   ],
   "source": [
    "ib.show(table_row)"
   ]
  },
  {
   "cell_type": "code",
   "execution_count": null,
   "id": "af537026-6a80-4bfc-8bb1-75339d66a378",
   "metadata": {},
   "outputs": [],
   "source": []
  }
 ],
 "metadata": {
  "kernelspec": {
   "display_name": "Python3 (beam_venv)",
   "language": "python",
   "name": "beam_venv_kernel"
  },
  "language_info": {
   "codemirror_mode": {
    "name": "ipython",
    "version": 3
   },
   "file_extension": ".py",
   "mimetype": "text/x-python",
   "name": "python",
   "nbconvert_exporter": "python",
   "pygments_lexer": "ipython3",
   "version": "3.7.12"
  }
 },
 "nbformat": 4,
 "nbformat_minor": 5
}
