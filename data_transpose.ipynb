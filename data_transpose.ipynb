{
 "cells": [
  {
   "cell_type": "code",
   "execution_count": 16,
   "id": "753f94ca-4940-4ac0-8db7-5c2d96f5b3a4",
   "metadata": {},
   "outputs": [],
   "source": [
    "import logging\n",
    "import argparse\n",
    "\n",
    "import apache_beam as beam\n",
    "import apache_beam.io.gcp.bigquery as bq"
   ]
  },
  {
   "cell_type": "code",
   "execution_count": 17,
   "id": "e539b526-cb2c-4813-9ab0-706e2b38e519",
   "metadata": {},
   "outputs": [],
   "source": [
    "from apache_beam.runners.interactive.interactive_runner import InteractiveRunner\n",
    "import apache_beam.runners.interactive.interactive_beam as ib"
   ]
  },
  {
   "cell_type": "code",
   "execution_count": null,
   "id": "d6a923f2-57f3-4c39-ab1f-3faffd2c1ebb",
   "metadata": {},
   "outputs": [],
   "source": []
  },
  {
   "cell_type": "code",
   "execution_count": 18,
   "id": "d98ac141-7991-4732-a7ff-d88930665498",
   "metadata": {},
   "outputs": [],
   "source": [
    "N=9\n",
    "p = beam.Pipeline(InteractiveRunner())\n",
    "squares = (p | \"Create Elements\" >> beam.Create(range(N))\n",
    "             | \"Squares\" >> beam.Map(lambda x: x**2))"
   ]
  },
  {
   "cell_type": "code",
   "execution_count": 19,
   "id": "f3269812-12a2-4162-a807-d1424408e6c4",
   "metadata": {},
   "outputs": [
    {
     "data": {
      "text/html": [
       "\n",
       "            <link rel=\"stylesheet\" href=\"https://stackpath.bootstrapcdn.com/bootstrap/4.4.1/css/bootstrap.min.css\" integrity=\"sha384-Vkoo8x4CGsO3+Hhxv8T/Q5PaXtkKtu6ug5TOeNV6gBiFeWPGFN9MuhOf23Q9Ifjh\" crossorigin=\"anonymous\">\n",
       "            <div id=\"progress_indicator_f81067fc07d15580eac75e4393d60c93\" class=\"spinner-border text-info\" role=\"status\">\n",
       "            </div>"
      ],
      "text/plain": [
       "<IPython.core.display.HTML object>"
      ]
     },
     "metadata": {},
     "output_type": "display_data"
    },
    {
     "data": {
      "text/html": [
       "digraph G {\n",
       "node [color=blue, fontcolor=blue, shape=box];\n",
       "\"[18]: Create Elements\";\n",
       "pcoll8224 [label=\"\", shape=circle];\n",
       "\"[18]: Squares\";\n",
       "squares [shape=circle];\n",
       "\"[18]: Create Elements\" -> pcoll8224;\n",
       "pcoll8224 -> \"[18]: Squares\";\n",
       "\"[18]: Squares\" -> squares;\n",
       "}\n"
      ],
      "text/plain": [
       "<IPython.core.display.HTML object>"
      ]
     },
     "metadata": {},
     "output_type": "display_data"
    },
    {
     "data": {
      "application/javascript": [
       "\n",
       "        if (typeof window.interactive_beam_jquery == 'undefined') {\n",
       "          var jqueryScript = document.createElement('script');\n",
       "          jqueryScript.src = 'https://code.jquery.com/jquery-3.4.1.slim.min.js';\n",
       "          jqueryScript.type = 'text/javascript';\n",
       "          jqueryScript.onload = function() {\n",
       "            var datatableScript = document.createElement('script');\n",
       "            datatableScript.src = 'https://cdn.datatables.net/1.10.20/js/jquery.dataTables.min.js';\n",
       "            datatableScript.type = 'text/javascript';\n",
       "            datatableScript.onload = function() {\n",
       "              window.interactive_beam_jquery = jQuery.noConflict(true);\n",
       "              window.interactive_beam_jquery(document).ready(function($){\n",
       "                \n",
       "            $(\"#progress_indicator_f81067fc07d15580eac75e4393d60c93\").remove();\n",
       "              });\n",
       "            }\n",
       "            document.head.appendChild(datatableScript);\n",
       "          };\n",
       "          document.head.appendChild(jqueryScript);\n",
       "        } else {\n",
       "          window.interactive_beam_jquery(document).ready(function($){\n",
       "            \n",
       "            $(\"#progress_indicator_f81067fc07d15580eac75e4393d60c93\").remove();\n",
       "          });\n",
       "        }"
      ]
     },
     "metadata": {},
     "output_type": "display_data"
    }
   ],
   "source": [
    "ib.show_graph(p)"
   ]
  },
  {
   "cell_type": "code",
   "execution_count": 20,
   "id": "7e117908-194b-4a47-8ea3-def2972c3758",
   "metadata": {},
   "outputs": [
    {
     "data": {
      "text/html": [
       "\n",
       "            <link rel=\"stylesheet\" href=\"https://stackpath.bootstrapcdn.com/bootstrap/4.4.1/css/bootstrap.min.css\" integrity=\"sha384-Vkoo8x4CGsO3+Hhxv8T/Q5PaXtkKtu6ug5TOeNV6gBiFeWPGFN9MuhOf23Q9Ifjh\" crossorigin=\"anonymous\">\n",
       "            <div id=\"progress_indicator_53f2e6f7cd5a7936ad8001840fb4dda4\" class=\"spinner-border text-info\" role=\"status\">\n",
       "            </div>"
      ],
      "text/plain": [
       "<IPython.core.display.HTML object>"
      ]
     },
     "metadata": {},
     "output_type": "display_data"
    },
    {
     "data": {
      "text/html": [
       "\n",
       "            <style>\n",
       "            .p-Widget.jp-OutputPrompt.jp-OutputArea-prompt:empty {\n",
       "              padding: 0;\n",
       "              border: 0;\n",
       "            }\n",
       "            .p-Widget.jp-RenderedJavaScript.jp-mod-trusted.jp-OutputArea-output:empty {\n",
       "              padding: 0;\n",
       "              border: 0;\n",
       "            }\n",
       "            </style>\n",
       "            <link rel=\"stylesheet\" href=\"https://cdn.datatables.net/1.10.20/css/jquery.dataTables.min.css\">\n",
       "            <table id=\"table_df_f5ffc0b471b2562dbaf6ec45eee675e8\" class=\"display\" style=\"display:block\"></table>\n",
       "            <script>\n",
       "              \n",
       "        if (typeof window.interactive_beam_jquery == 'undefined') {\n",
       "          var jqueryScript = document.createElement('script');\n",
       "          jqueryScript.src = 'https://code.jquery.com/jquery-3.4.1.slim.min.js';\n",
       "          jqueryScript.type = 'text/javascript';\n",
       "          jqueryScript.onload = function() {\n",
       "            var datatableScript = document.createElement('script');\n",
       "            datatableScript.src = 'https://cdn.datatables.net/1.10.20/js/jquery.dataTables.min.js';\n",
       "            datatableScript.type = 'text/javascript';\n",
       "            datatableScript.onload = function() {\n",
       "              window.interactive_beam_jquery = jQuery.noConflict(true);\n",
       "              window.interactive_beam_jquery(document).ready(function($){\n",
       "                \n",
       "            var dt;\n",
       "            if ($.fn.dataTable.isDataTable(\"#table_df_f5ffc0b471b2562dbaf6ec45eee675e8\")) {\n",
       "              dt = $(\"#table_df_f5ffc0b471b2562dbaf6ec45eee675e8\").dataTable();\n",
       "            } else if ($(\"#table_df_f5ffc0b471b2562dbaf6ec45eee675e8_wrapper\").length == 0) {\n",
       "              dt = $(\"#table_df_f5ffc0b471b2562dbaf6ec45eee675e8\").dataTable({\n",
       "                \n",
       "            bAutoWidth: false,\n",
       "            columns: [{'title': ''}, {'title': 'squares.0'}],\n",
       "            destroy: true,\n",
       "            responsive: true,\n",
       "            columnDefs: [\n",
       "              {\n",
       "                targets: \"_all\",\n",
       "                className: \"dt-left\"\n",
       "              },\n",
       "              {\n",
       "                \"targets\": 0,\n",
       "                \"width\": \"10px\",\n",
       "                \"title\": \"\"\n",
       "              }\n",
       "            ]\n",
       "              });\n",
       "            } else {\n",
       "              return;\n",
       "            }\n",
       "            dt.api()\n",
       "              .clear()\n",
       "              .rows.add([{1: '0', 0: 0}, {1: '1', 0: 1}, {1: '4', 0: 2}, {1: '9', 0: 3}, {1: '16', 0: 4}, {1: '25', 0: 5}, {1: '36', 0: 6}, {1: '49', 0: 7}, {1: '64', 0: 8}])\n",
       "              .draw('full-hold');\n",
       "              });\n",
       "            }\n",
       "            document.head.appendChild(datatableScript);\n",
       "          };\n",
       "          document.head.appendChild(jqueryScript);\n",
       "        } else {\n",
       "          window.interactive_beam_jquery(document).ready(function($){\n",
       "            \n",
       "            var dt;\n",
       "            if ($.fn.dataTable.isDataTable(\"#table_df_f5ffc0b471b2562dbaf6ec45eee675e8\")) {\n",
       "              dt = $(\"#table_df_f5ffc0b471b2562dbaf6ec45eee675e8\").dataTable();\n",
       "            } else if ($(\"#table_df_f5ffc0b471b2562dbaf6ec45eee675e8_wrapper\").length == 0) {\n",
       "              dt = $(\"#table_df_f5ffc0b471b2562dbaf6ec45eee675e8\").dataTable({\n",
       "                \n",
       "            bAutoWidth: false,\n",
       "            columns: [{'title': ''}, {'title': 'squares.0'}],\n",
       "            destroy: true,\n",
       "            responsive: true,\n",
       "            columnDefs: [\n",
       "              {\n",
       "                targets: \"_all\",\n",
       "                className: \"dt-left\"\n",
       "              },\n",
       "              {\n",
       "                \"targets\": 0,\n",
       "                \"width\": \"10px\",\n",
       "                \"title\": \"\"\n",
       "              }\n",
       "            ]\n",
       "              });\n",
       "            } else {\n",
       "              return;\n",
       "            }\n",
       "            dt.api()\n",
       "              .clear()\n",
       "              .rows.add([{1: '0', 0: 0}, {1: '1', 0: 1}, {1: '4', 0: 2}, {1: '9', 0: 3}, {1: '16', 0: 4}, {1: '25', 0: 5}, {1: '36', 0: 6}, {1: '49', 0: 7}, {1: '64', 0: 8}])\n",
       "              .draw('full-hold');\n",
       "          });\n",
       "        }\n",
       "            </script>"
      ],
      "text/plain": [
       "<IPython.core.display.HTML object>"
      ]
     },
     "metadata": {},
     "output_type": "display_data"
    },
    {
     "data": {
      "application/javascript": [
       "\n",
       "        if (typeof window.interactive_beam_jquery == 'undefined') {\n",
       "          var jqueryScript = document.createElement('script');\n",
       "          jqueryScript.src = 'https://code.jquery.com/jquery-3.4.1.slim.min.js';\n",
       "          jqueryScript.type = 'text/javascript';\n",
       "          jqueryScript.onload = function() {\n",
       "            var datatableScript = document.createElement('script');\n",
       "            datatableScript.src = 'https://cdn.datatables.net/1.10.20/js/jquery.dataTables.min.js';\n",
       "            datatableScript.type = 'text/javascript';\n",
       "            datatableScript.onload = function() {\n",
       "              window.interactive_beam_jquery = jQuery.noConflict(true);\n",
       "              window.interactive_beam_jquery(document).ready(function($){\n",
       "                \n",
       "            $(\"#progress_indicator_53f2e6f7cd5a7936ad8001840fb4dda4\").remove();\n",
       "              });\n",
       "            }\n",
       "            document.head.appendChild(datatableScript);\n",
       "          };\n",
       "          document.head.appendChild(jqueryScript);\n",
       "        } else {\n",
       "          window.interactive_beam_jquery(document).ready(function($){\n",
       "            \n",
       "            $(\"#progress_indicator_53f2e6f7cd5a7936ad8001840fb4dda4\").remove();\n",
       "          });\n",
       "        }"
      ]
     },
     "metadata": {},
     "output_type": "display_data"
    }
   ],
   "source": [
    "ib.show(squares)"
   ]
  },
  {
   "cell_type": "code",
   "execution_count": 95,
   "id": "06c32179-0262-4422-bf8a-9dc947e84bcd",
   "metadata": {},
   "outputs": [],
   "source": [
    "PROJECT_ID =\"my-bq-demo\"\n",
    "DATASET_ID=\"input\"\n",
    "TABLE_ID=\"input_for_transpose\"\n",
    "INPUT_SCHEMA = {\n",
    "    'fields': [{\n",
    "        'name': 'ID', \n",
    "        'type': 'INTEGER', \n",
    "        'mode': 'REQUIRED'\n",
    "    }, \n",
    "    {\n",
    "        'name': 'CLASS', \n",
    "        'type': 'STRING', \n",
    "        'mode': 'NULLABLE'\n",
    "    },\n",
    "    {\n",
    "        'name': 'SALES', \n",
    "        'type': 'FLOAT', \n",
    "        'mode': 'NULLABLE'\n",
    "        }]\n",
    "        }\n",
    "ID_SCHEMA = {'name': 'ID', \n",
    "             'type': 'INTEGER', \n",
    "              'mode': 'REQUIRED'\n",
    "                            }\n",
    "OUTPUT_SCHEMA ={}\n",
    "key_field = ['ID']\n",
    "pivot_field = ['CLASS']\n",
    "value_field = ['SALES']\n",
    "value_schema = {'SALES':'FLOAT'}\n",
    "table_id = 'my-bq-demo:output.out111'"
   ]
  },
  {
   "cell_type": "code",
   "execution_count": 47,
   "id": "8de4eb49-0451-440f-854d-a9c2df4a3c20",
   "metadata": {},
   "outputs": [],
   "source": [
    "class GetPivotValues(beam.DoFn):\n",
    "    def process(self, element):\n",
    "        print(element)\n",
    "        rt_set = set()\n",
    "        row = element\n",
    "        for field in pivot_field:\n",
    "            rt_set = (field, row[field])\n",
    "        yield rt_set"
   ]
  },
  {
   "cell_type": "code",
   "execution_count": 68,
   "id": "a241dce5-bc9a-41db-a58f-d20507b88ec8",
   "metadata": {},
   "outputs": [],
   "source": [
    "class FoldPivotValues(beam.DoFn):\n",
    "    def process(self, element):\n",
    "        rt_l = []\n",
    "        rt_dict={}\n",
    "        \n",
    "        unique_field_values = set(element[1])\n",
    "        for piv in unique_field_values:\n",
    "                for val in value_schema:\n",
    "                    rt_dict['name'] = f\"{piv}_{val}\"\n",
    "                    rt_dict['type'] = value_schema[val]\n",
    "                    rt_dict['mode'] = 'NULLABLE'\n",
    "                    rt_l.append(rt_dict)\n",
    "                    rt_dict={}\n",
    "        print(rt_l)\n",
    "        return rt_l"
   ]
  },
  {
   "cell_type": "code",
   "execution_count": null,
   "id": "4bc23de7-07cc-4a87-8bf6-314087a2fd0f",
   "metadata": {},
   "outputs": [],
   "source": [
    "class NonKeySchema(beam.CombineFn):\n",
    "  def create_accumulator(self):\n",
    "    return {}\n",
    "\n",
    "  def add_input(self, accumulator, input):\n",
    "    accumulator.add(input)\n",
    "    return accumulator\n",
    "\n",
    "  def merge_accumulators(self, accumulators):\n",
    "    merged = []\n",
    "    for accum in accumulators:\n",
    "      merged.append[accum]\n",
    "    return merged\n",
    "\n",
    "  def extract_output(self, accumulator):\n",
    "        public Schema extractOutput(List<Schema> schemas) {\n",
    "                    return PivotUtils.mergeSchemas(schemas);\n",
    "                  }\n",
    "    # accumulator == {'🥕': 3, '🍅': 6, '🍆': 1}\n",
    "    total = sum(accumulator.values())  # 10\n",
    "    percentages = {item: count / total for item, count in accumulator.items()}\n",
    "    # percentages == {'🥕': 0.3, '🍅': 0.6, '🍆': 0.1}\n",
    "    return percentages\n"
   ]
  },
  {
   "cell_type": "code",
   "execution_count": 74,
   "id": "03400a5c-72fc-42ed-bb27-e6f896b672c7",
   "metadata": {},
   "outputs": [],
   "source": [
    "def getDynamicMap(element, key_schema):\n",
    "    print(element)"
   ]
  },
  {
   "cell_type": "code",
   "execution_count": null,
   "id": "7d3e3fe6-3f91-4298-b2f1-702164b31146",
   "metadata": {},
   "outputs": [],
   "source": []
  },
  {
   "cell_type": "code",
   "execution_count": 81,
   "id": "644f1e65-9fc8-4c34-acf1-a03b9f43e188",
   "metadata": {},
   "outputs": [
    {
     "name": "stdout",
     "output_type": "stream",
     "text": [
      "{'🥕': 0.3, '🍅': 0.6, '🍆': 0.1}\n"
     ]
    }
   ],
   "source": [
    "import apache_beam as beam\n",
    "\n",
    "class PercentagesFn(beam.CombineFn):\n",
    "  def create_accumulator(self):\n",
    "    return {}\n",
    "\n",
    "  def add_input(self, accumulator, input):\n",
    "    # accumulator == {}\n",
    "    # input == '🥕'\n",
    "    if input not in accumulator:\n",
    "      accumulator[input] = 0  # {'🥕': 0}\n",
    "    accumulator[input] += 1  # {'🥕': 1}\n",
    "    return accumulator\n",
    "\n",
    "  def merge_accumulators(self, accumulators):\n",
    "    # accumulators == [\n",
    "    #     {'🥕': 1, '🍅': 2},\n",
    "    #     {'🥕': 1, '🍅': 1, '🍆': 1},\n",
    "    #     {'🥕': 1, '🍅': 3},\n",
    "    # ]\n",
    "    merged = {}\n",
    "    for accum in accumulators:\n",
    "      for item, count in accum.items():\n",
    "        if item not in merged:\n",
    "          merged[item] = 0\n",
    "        merged[item] += count\n",
    "    # merged == {'🥕': 3, '🍅': 6, '🍆': 1}\n",
    "    return merged\n",
    "\n",
    "  def extract_output(self, accumulator):\n",
    "    # accumulator == {'🥕': 3, '🍅': 6, '🍆': 1}\n",
    "    total = sum(accumulator.values())  # 10\n",
    "    percentages = {item: count / total for item, count in accumulator.items()}\n",
    "    # percentages == {'🥕': 0.3, '🍅': 0.6, '🍆': 0.1}\n",
    "    return percentages\n",
    "\n",
    "with beam.Pipeline() as pipeline:\n",
    "  percentages = (\n",
    "      pipeline\n",
    "      | 'Create produce' >> beam.Create(\n",
    "          ['🥕', '🍅', '🍅', '🥕', '🍆', '🍅', '🍅', '🍅', '🥕', '🍅'])\n",
    "      | 'Get percentages' >> beam.CombineGlobally(PercentagesFn())\n",
    "      | beam.Map(print))"
   ]
  },
  {
   "cell_type": "code",
   "execution_count": null,
   "id": "bf5cbc0c-e5ec-477b-a409-8afef822bb26",
   "metadata": {},
   "outputs": [],
   "source": []
  },
  {
   "cell_type": "code",
   "execution_count": 96,
   "id": "5aea8ff7-4d5a-4384-892a-6167f92375d0",
   "metadata": {},
   "outputs": [
    {
     "name": "stdout",
     "output_type": "stream",
     "text": [
      "{'ID': 123, 'CLASS': 'AAA', 'SALES': 101.44}\n",
      "{'ID': 123, 'CLASS': 'BBB', 'SALES': 345.44}\n",
      "{'ID': 1234, 'CLASS': 'AAA', 'SALES': 458.44}\n",
      "[{'name': 'AAA_SALES', 'type': 'FLOAT', 'mode': 'NULLABLE'}, {'name': 'BBB_SALES', 'type': 'FLOAT', 'mode': 'NULLABLE'}]\n"
     ]
    }
   ],
   "source": [
    "with beam.Pipeline(InteractiveRunner()) as p:\n",
    "        input_table_rows = ( p \n",
    "                    | \"Read BigQuery table\" >>  beam.Create(\n",
    "                         [{\"ID\":123, \"CLASS\": \"AAA\", \"SALES\":101.44},\n",
    "                        {\"ID\":123, \"CLASS\": \"BBB\", \"SALES\":345.44},\n",
    "                        {\"ID\":1234, \"CLASS\": \"AAA\", \"SALES\":458.44}]\n",
    "                        )\n",
    "                    )\n",
    "        \n",
    "        pivoted_schema = ( input_table_rows\n",
    "                        | \"Get Pivot Schema\" >> beam.ParDo(GetPivotValues()) \n",
    "                        | \"Group by pivot field\" >> beam.GroupByKey()\n",
    "                        | \"Fold pivot values to columns\" >> beam.ParDo(FoldPivotValues())\n",
    "                       )\n",
    "        key_schema = (p \n",
    "                      | \"Create Key Schema\" >> beam.Create(\n",
    "                          [ID_SCHEMA]\n",
    "                      )\n",
    "                     )\n",
    "        dynamic_schema = ( \n",
    "                # 4) Create dynamic schema view for writing to output table.\n",
    "                (pivoted_schema, key_schema)\n",
    "                | \"Convert dynamic schema map\" >> beam.Flatten()\n",
    "        )"
   ]
  },
  {
   "cell_type": "code",
   "execution_count": 91,
   "id": "2802835e-05ea-41e1-aa43-f9770c2bcec0",
   "metadata": {},
   "outputs": [
    {
     "data": {
      "text/html": [
       "\n",
       "            <link rel=\"stylesheet\" href=\"https://stackpath.bootstrapcdn.com/bootstrap/4.4.1/css/bootstrap.min.css\" integrity=\"sha384-Vkoo8x4CGsO3+Hhxv8T/Q5PaXtkKtu6ug5TOeNV6gBiFeWPGFN9MuhOf23Q9Ifjh\" crossorigin=\"anonymous\">\n",
       "            <div id=\"progress_indicator_dc734748f35c81890a7e8943cd686fa7\" class=\"spinner-border text-info\" role=\"status\">\n",
       "            </div>"
      ],
      "text/plain": [
       "<IPython.core.display.HTML object>"
      ]
     },
     "metadata": {},
     "output_type": "display_data"
    },
    {
     "data": {
      "text/html": [
       "\n",
       "            <style>\n",
       "            .p-Widget.jp-OutputPrompt.jp-OutputArea-prompt:empty {\n",
       "              padding: 0;\n",
       "              border: 0;\n",
       "            }\n",
       "            .p-Widget.jp-RenderedJavaScript.jp-mod-trusted.jp-OutputArea-output:empty {\n",
       "              padding: 0;\n",
       "              border: 0;\n",
       "            }\n",
       "            </style>\n",
       "            <link rel=\"stylesheet\" href=\"https://cdn.datatables.net/1.10.20/css/jquery.dataTables.min.css\">\n",
       "            <table id=\"table_df_b83e0acaf1ffbd3c73fe6d61b363c56a\" class=\"display\" style=\"display:block\"></table>\n",
       "            <script>\n",
       "              \n",
       "        if (typeof window.interactive_beam_jquery == 'undefined') {\n",
       "          var jqueryScript = document.createElement('script');\n",
       "          jqueryScript.src = 'https://code.jquery.com/jquery-3.4.1.slim.min.js';\n",
       "          jqueryScript.type = 'text/javascript';\n",
       "          jqueryScript.onload = function() {\n",
       "            var datatableScript = document.createElement('script');\n",
       "            datatableScript.src = 'https://cdn.datatables.net/1.10.20/js/jquery.dataTables.min.js';\n",
       "            datatableScript.type = 'text/javascript';\n",
       "            datatableScript.onload = function() {\n",
       "              window.interactive_beam_jquery = jQuery.noConflict(true);\n",
       "              window.interactive_beam_jquery(document).ready(function($){\n",
       "                \n",
       "            var dt;\n",
       "            if ($.fn.dataTable.isDataTable(\"#table_df_b83e0acaf1ffbd3c73fe6d61b363c56a\")) {\n",
       "              dt = $(\"#table_df_b83e0acaf1ffbd3c73fe6d61b363c56a\").dataTable();\n",
       "            } else if ($(\"#table_df_b83e0acaf1ffbd3c73fe6d61b363c56a_wrapper\").length == 0) {\n",
       "              dt = $(\"#table_df_b83e0acaf1ffbd3c73fe6d61b363c56a\").dataTable({\n",
       "                \n",
       "            bAutoWidth: false,\n",
       "            columns: [{'title': ''}, {'title': 'ID'}, {'title': 'CLASS'}, {'title': 'SALES'}],\n",
       "            destroy: true,\n",
       "            responsive: true,\n",
       "            columnDefs: [\n",
       "              {\n",
       "                targets: \"_all\",\n",
       "                className: \"dt-left\"\n",
       "              },\n",
       "              {\n",
       "                \"targets\": 0,\n",
       "                \"width\": \"10px\",\n",
       "                \"title\": \"\"\n",
       "              }\n",
       "            ]\n",
       "              });\n",
       "            } else {\n",
       "              return;\n",
       "            }\n",
       "            dt.api()\n",
       "              .clear()\n",
       "              .rows.add([{1: '123', 2: 'AAA', 3: '101.44', 0: 0}, {1: '123', 2: 'BBB', 3: '345.44', 0: 1}, {1: '1234', 2: 'AAA', 3: '458.44', 0: 2}])\n",
       "              .draw('full-hold');\n",
       "              });\n",
       "            }\n",
       "            document.head.appendChild(datatableScript);\n",
       "          };\n",
       "          document.head.appendChild(jqueryScript);\n",
       "        } else {\n",
       "          window.interactive_beam_jquery(document).ready(function($){\n",
       "            \n",
       "            var dt;\n",
       "            if ($.fn.dataTable.isDataTable(\"#table_df_b83e0acaf1ffbd3c73fe6d61b363c56a\")) {\n",
       "              dt = $(\"#table_df_b83e0acaf1ffbd3c73fe6d61b363c56a\").dataTable();\n",
       "            } else if ($(\"#table_df_b83e0acaf1ffbd3c73fe6d61b363c56a_wrapper\").length == 0) {\n",
       "              dt = $(\"#table_df_b83e0acaf1ffbd3c73fe6d61b363c56a\").dataTable({\n",
       "                \n",
       "            bAutoWidth: false,\n",
       "            columns: [{'title': ''}, {'title': 'ID'}, {'title': 'CLASS'}, {'title': 'SALES'}],\n",
       "            destroy: true,\n",
       "            responsive: true,\n",
       "            columnDefs: [\n",
       "              {\n",
       "                targets: \"_all\",\n",
       "                className: \"dt-left\"\n",
       "              },\n",
       "              {\n",
       "                \"targets\": 0,\n",
       "                \"width\": \"10px\",\n",
       "                \"title\": \"\"\n",
       "              }\n",
       "            ]\n",
       "              });\n",
       "            } else {\n",
       "              return;\n",
       "            }\n",
       "            dt.api()\n",
       "              .clear()\n",
       "              .rows.add([{1: '123', 2: 'AAA', 3: '101.44', 0: 0}, {1: '123', 2: 'BBB', 3: '345.44', 0: 1}, {1: '1234', 2: 'AAA', 3: '458.44', 0: 2}])\n",
       "              .draw('full-hold');\n",
       "          });\n",
       "        }\n",
       "            </script>"
      ],
      "text/plain": [
       "<IPython.core.display.HTML object>"
      ]
     },
     "metadata": {},
     "output_type": "display_data"
    },
    {
     "data": {
      "application/javascript": [
       "\n",
       "        if (typeof window.interactive_beam_jquery == 'undefined') {\n",
       "          var jqueryScript = document.createElement('script');\n",
       "          jqueryScript.src = 'https://code.jquery.com/jquery-3.4.1.slim.min.js';\n",
       "          jqueryScript.type = 'text/javascript';\n",
       "          jqueryScript.onload = function() {\n",
       "            var datatableScript = document.createElement('script');\n",
       "            datatableScript.src = 'https://cdn.datatables.net/1.10.20/js/jquery.dataTables.min.js';\n",
       "            datatableScript.type = 'text/javascript';\n",
       "            datatableScript.onload = function() {\n",
       "              window.interactive_beam_jquery = jQuery.noConflict(true);\n",
       "              window.interactive_beam_jquery(document).ready(function($){\n",
       "                \n",
       "            $(\"#progress_indicator_dc734748f35c81890a7e8943cd686fa7\").remove();\n",
       "              });\n",
       "            }\n",
       "            document.head.appendChild(datatableScript);\n",
       "          };\n",
       "          document.head.appendChild(jqueryScript);\n",
       "        } else {\n",
       "          window.interactive_beam_jquery(document).ready(function($){\n",
       "            \n",
       "            $(\"#progress_indicator_dc734748f35c81890a7e8943cd686fa7\").remove();\n",
       "          });\n",
       "        }"
      ]
     },
     "metadata": {},
     "output_type": "display_data"
    }
   ],
   "source": [
    "ib.show(input_table_rows)"
   ]
  },
  {
   "cell_type": "code",
   "execution_count": 92,
   "id": "faac3b28-7e1d-4b83-9dce-7084b9cb0bb4",
   "metadata": {},
   "outputs": [
    {
     "data": {
      "text/html": [
       "\n",
       "            <link rel=\"stylesheet\" href=\"https://stackpath.bootstrapcdn.com/bootstrap/4.4.1/css/bootstrap.min.css\" integrity=\"sha384-Vkoo8x4CGsO3+Hhxv8T/Q5PaXtkKtu6ug5TOeNV6gBiFeWPGFN9MuhOf23Q9Ifjh\" crossorigin=\"anonymous\">\n",
       "            <div id=\"progress_indicator_96d24c1ed43fc7ffc5c852014eb6580d\" class=\"spinner-border text-info\" role=\"status\">\n",
       "            </div>"
      ],
      "text/plain": [
       "<IPython.core.display.HTML object>"
      ]
     },
     "metadata": {},
     "output_type": "display_data"
    },
    {
     "data": {
      "text/html": [
       "\n",
       "            <style>\n",
       "            .p-Widget.jp-OutputPrompt.jp-OutputArea-prompt:empty {\n",
       "              padding: 0;\n",
       "              border: 0;\n",
       "            }\n",
       "            .p-Widget.jp-RenderedJavaScript.jp-mod-trusted.jp-OutputArea-output:empty {\n",
       "              padding: 0;\n",
       "              border: 0;\n",
       "            }\n",
       "            </style>\n",
       "            <link rel=\"stylesheet\" href=\"https://cdn.datatables.net/1.10.20/css/jquery.dataTables.min.css\">\n",
       "            <table id=\"table_df_72498457b0c68d2d808ff85c5b9767ea\" class=\"display\" style=\"display:block\"></table>\n",
       "            <script>\n",
       "              \n",
       "        if (typeof window.interactive_beam_jquery == 'undefined') {\n",
       "          var jqueryScript = document.createElement('script');\n",
       "          jqueryScript.src = 'https://code.jquery.com/jquery-3.4.1.slim.min.js';\n",
       "          jqueryScript.type = 'text/javascript';\n",
       "          jqueryScript.onload = function() {\n",
       "            var datatableScript = document.createElement('script');\n",
       "            datatableScript.src = 'https://cdn.datatables.net/1.10.20/js/jquery.dataTables.min.js';\n",
       "            datatableScript.type = 'text/javascript';\n",
       "            datatableScript.onload = function() {\n",
       "              window.interactive_beam_jquery = jQuery.noConflict(true);\n",
       "              window.interactive_beam_jquery(document).ready(function($){\n",
       "                \n",
       "            var dt;\n",
       "            if ($.fn.dataTable.isDataTable(\"#table_df_72498457b0c68d2d808ff85c5b9767ea\")) {\n",
       "              dt = $(\"#table_df_72498457b0c68d2d808ff85c5b9767ea\").dataTable();\n",
       "            } else if ($(\"#table_df_72498457b0c68d2d808ff85c5b9767ea_wrapper\").length == 0) {\n",
       "              dt = $(\"#table_df_72498457b0c68d2d808ff85c5b9767ea\").dataTable({\n",
       "                \n",
       "            bAutoWidth: false,\n",
       "            columns: [{'title': ''}, {'title': 'name'}, {'title': 'type'}, {'title': 'mode'}],\n",
       "            destroy: true,\n",
       "            responsive: true,\n",
       "            columnDefs: [\n",
       "              {\n",
       "                targets: \"_all\",\n",
       "                className: \"dt-left\"\n",
       "              },\n",
       "              {\n",
       "                \"targets\": 0,\n",
       "                \"width\": \"10px\",\n",
       "                \"title\": \"\"\n",
       "              }\n",
       "            ]\n",
       "              });\n",
       "            } else {\n",
       "              return;\n",
       "            }\n",
       "            dt.api()\n",
       "              .clear()\n",
       "              .rows.add([{1: 'AAA_SALES', 2: 'FLOAT', 3: 'NULLABLE', 0: 0}, {1: 'BBB_SALES', 2: 'FLOAT', 3: 'NULLABLE', 0: 1}])\n",
       "              .draw('full-hold');\n",
       "              });\n",
       "            }\n",
       "            document.head.appendChild(datatableScript);\n",
       "          };\n",
       "          document.head.appendChild(jqueryScript);\n",
       "        } else {\n",
       "          window.interactive_beam_jquery(document).ready(function($){\n",
       "            \n",
       "            var dt;\n",
       "            if ($.fn.dataTable.isDataTable(\"#table_df_72498457b0c68d2d808ff85c5b9767ea\")) {\n",
       "              dt = $(\"#table_df_72498457b0c68d2d808ff85c5b9767ea\").dataTable();\n",
       "            } else if ($(\"#table_df_72498457b0c68d2d808ff85c5b9767ea_wrapper\").length == 0) {\n",
       "              dt = $(\"#table_df_72498457b0c68d2d808ff85c5b9767ea\").dataTable({\n",
       "                \n",
       "            bAutoWidth: false,\n",
       "            columns: [{'title': ''}, {'title': 'name'}, {'title': 'type'}, {'title': 'mode'}],\n",
       "            destroy: true,\n",
       "            responsive: true,\n",
       "            columnDefs: [\n",
       "              {\n",
       "                targets: \"_all\",\n",
       "                className: \"dt-left\"\n",
       "              },\n",
       "              {\n",
       "                \"targets\": 0,\n",
       "                \"width\": \"10px\",\n",
       "                \"title\": \"\"\n",
       "              }\n",
       "            ]\n",
       "              });\n",
       "            } else {\n",
       "              return;\n",
       "            }\n",
       "            dt.api()\n",
       "              .clear()\n",
       "              .rows.add([{1: 'AAA_SALES', 2: 'FLOAT', 3: 'NULLABLE', 0: 0}, {1: 'BBB_SALES', 2: 'FLOAT', 3: 'NULLABLE', 0: 1}])\n",
       "              .draw('full-hold');\n",
       "          });\n",
       "        }\n",
       "            </script>"
      ],
      "text/plain": [
       "<IPython.core.display.HTML object>"
      ]
     },
     "metadata": {},
     "output_type": "display_data"
    },
    {
     "data": {
      "application/javascript": [
       "\n",
       "        if (typeof window.interactive_beam_jquery == 'undefined') {\n",
       "          var jqueryScript = document.createElement('script');\n",
       "          jqueryScript.src = 'https://code.jquery.com/jquery-3.4.1.slim.min.js';\n",
       "          jqueryScript.type = 'text/javascript';\n",
       "          jqueryScript.onload = function() {\n",
       "            var datatableScript = document.createElement('script');\n",
       "            datatableScript.src = 'https://cdn.datatables.net/1.10.20/js/jquery.dataTables.min.js';\n",
       "            datatableScript.type = 'text/javascript';\n",
       "            datatableScript.onload = function() {\n",
       "              window.interactive_beam_jquery = jQuery.noConflict(true);\n",
       "              window.interactive_beam_jquery(document).ready(function($){\n",
       "                \n",
       "            $(\"#progress_indicator_96d24c1ed43fc7ffc5c852014eb6580d\").remove();\n",
       "              });\n",
       "            }\n",
       "            document.head.appendChild(datatableScript);\n",
       "          };\n",
       "          document.head.appendChild(jqueryScript);\n",
       "        } else {\n",
       "          window.interactive_beam_jquery(document).ready(function($){\n",
       "            \n",
       "            $(\"#progress_indicator_96d24c1ed43fc7ffc5c852014eb6580d\").remove();\n",
       "          });\n",
       "        }"
      ]
     },
     "metadata": {},
     "output_type": "display_data"
    }
   ],
   "source": [
    "ib.show(pivoted_schema)"
   ]
  },
  {
   "cell_type": "code",
   "execution_count": 94,
   "id": "0722c747-64be-4714-9b75-35537896befe",
   "metadata": {},
   "outputs": [
    {
     "data": {
      "text/html": [
       "\n",
       "            <link rel=\"stylesheet\" href=\"https://stackpath.bootstrapcdn.com/bootstrap/4.4.1/css/bootstrap.min.css\" integrity=\"sha384-Vkoo8x4CGsO3+Hhxv8T/Q5PaXtkKtu6ug5TOeNV6gBiFeWPGFN9MuhOf23Q9Ifjh\" crossorigin=\"anonymous\">\n",
       "            <div id=\"progress_indicator_af61662b9f4da2be32efb83973150c58\" class=\"spinner-border text-info\" role=\"status\">\n",
       "            </div>"
      ],
      "text/plain": [
       "<IPython.core.display.HTML object>"
      ]
     },
     "metadata": {},
     "output_type": "display_data"
    },
    {
     "data": {
      "text/html": [
       "\n",
       "            <style>\n",
       "            .p-Widget.jp-OutputPrompt.jp-OutputArea-prompt:empty {\n",
       "              padding: 0;\n",
       "              border: 0;\n",
       "            }\n",
       "            .p-Widget.jp-RenderedJavaScript.jp-mod-trusted.jp-OutputArea-output:empty {\n",
       "              padding: 0;\n",
       "              border: 0;\n",
       "            }\n",
       "            </style>\n",
       "            <link rel=\"stylesheet\" href=\"https://cdn.datatables.net/1.10.20/css/jquery.dataTables.min.css\">\n",
       "            <table id=\"table_df_89040c4a85e9cd0024aed9c2944c9e1f\" class=\"display\" style=\"display:block\"></table>\n",
       "            <script>\n",
       "              \n",
       "        if (typeof window.interactive_beam_jquery == 'undefined') {\n",
       "          var jqueryScript = document.createElement('script');\n",
       "          jqueryScript.src = 'https://code.jquery.com/jquery-3.4.1.slim.min.js';\n",
       "          jqueryScript.type = 'text/javascript';\n",
       "          jqueryScript.onload = function() {\n",
       "            var datatableScript = document.createElement('script');\n",
       "            datatableScript.src = 'https://cdn.datatables.net/1.10.20/js/jquery.dataTables.min.js';\n",
       "            datatableScript.type = 'text/javascript';\n",
       "            datatableScript.onload = function() {\n",
       "              window.interactive_beam_jquery = jQuery.noConflict(true);\n",
       "              window.interactive_beam_jquery(document).ready(function($){\n",
       "                \n",
       "            var dt;\n",
       "            if ($.fn.dataTable.isDataTable(\"#table_df_89040c4a85e9cd0024aed9c2944c9e1f\")) {\n",
       "              dt = $(\"#table_df_89040c4a85e9cd0024aed9c2944c9e1f\").dataTable();\n",
       "            } else if ($(\"#table_df_89040c4a85e9cd0024aed9c2944c9e1f_wrapper\").length == 0) {\n",
       "              dt = $(\"#table_df_89040c4a85e9cd0024aed9c2944c9e1f\").dataTable({\n",
       "                \n",
       "            bAutoWidth: false,\n",
       "            columns: [{'title': ''}, {'title': 'name'}, {'title': 'type'}, {'title': 'mode'}],\n",
       "            destroy: true,\n",
       "            responsive: true,\n",
       "            columnDefs: [\n",
       "              {\n",
       "                targets: \"_all\",\n",
       "                className: \"dt-left\"\n",
       "              },\n",
       "              {\n",
       "                \"targets\": 0,\n",
       "                \"width\": \"10px\",\n",
       "                \"title\": \"\"\n",
       "              }\n",
       "            ]\n",
       "              });\n",
       "            } else {\n",
       "              return;\n",
       "            }\n",
       "            dt.api()\n",
       "              .clear()\n",
       "              .rows.add([{1: 'AAA_SALES', 2: 'FLOAT', 3: 'NULLABLE', 0: 0}, {1: 'BBB_SALES', 2: 'FLOAT', 3: 'NULLABLE', 0: 1}, {1: 'ID', 2: 'INTEGER', 3: 'REQUIRED', 0: 2}])\n",
       "              .draw('full-hold');\n",
       "              });\n",
       "            }\n",
       "            document.head.appendChild(datatableScript);\n",
       "          };\n",
       "          document.head.appendChild(jqueryScript);\n",
       "        } else {\n",
       "          window.interactive_beam_jquery(document).ready(function($){\n",
       "            \n",
       "            var dt;\n",
       "            if ($.fn.dataTable.isDataTable(\"#table_df_89040c4a85e9cd0024aed9c2944c9e1f\")) {\n",
       "              dt = $(\"#table_df_89040c4a85e9cd0024aed9c2944c9e1f\").dataTable();\n",
       "            } else if ($(\"#table_df_89040c4a85e9cd0024aed9c2944c9e1f_wrapper\").length == 0) {\n",
       "              dt = $(\"#table_df_89040c4a85e9cd0024aed9c2944c9e1f\").dataTable({\n",
       "                \n",
       "            bAutoWidth: false,\n",
       "            columns: [{'title': ''}, {'title': 'name'}, {'title': 'type'}, {'title': 'mode'}],\n",
       "            destroy: true,\n",
       "            responsive: true,\n",
       "            columnDefs: [\n",
       "              {\n",
       "                targets: \"_all\",\n",
       "                className: \"dt-left\"\n",
       "              },\n",
       "              {\n",
       "                \"targets\": 0,\n",
       "                \"width\": \"10px\",\n",
       "                \"title\": \"\"\n",
       "              }\n",
       "            ]\n",
       "              });\n",
       "            } else {\n",
       "              return;\n",
       "            }\n",
       "            dt.api()\n",
       "              .clear()\n",
       "              .rows.add([{1: 'AAA_SALES', 2: 'FLOAT', 3: 'NULLABLE', 0: 0}, {1: 'BBB_SALES', 2: 'FLOAT', 3: 'NULLABLE', 0: 1}, {1: 'ID', 2: 'INTEGER', 3: 'REQUIRED', 0: 2}])\n",
       "              .draw('full-hold');\n",
       "          });\n",
       "        }\n",
       "            </script>"
      ],
      "text/plain": [
       "<IPython.core.display.HTML object>"
      ]
     },
     "metadata": {},
     "output_type": "display_data"
    },
    {
     "data": {
      "application/javascript": [
       "\n",
       "        if (typeof window.interactive_beam_jquery == 'undefined') {\n",
       "          var jqueryScript = document.createElement('script');\n",
       "          jqueryScript.src = 'https://code.jquery.com/jquery-3.4.1.slim.min.js';\n",
       "          jqueryScript.type = 'text/javascript';\n",
       "          jqueryScript.onload = function() {\n",
       "            var datatableScript = document.createElement('script');\n",
       "            datatableScript.src = 'https://cdn.datatables.net/1.10.20/js/jquery.dataTables.min.js';\n",
       "            datatableScript.type = 'text/javascript';\n",
       "            datatableScript.onload = function() {\n",
       "              window.interactive_beam_jquery = jQuery.noConflict(true);\n",
       "              window.interactive_beam_jquery(document).ready(function($){\n",
       "                \n",
       "            $(\"#progress_indicator_af61662b9f4da2be32efb83973150c58\").remove();\n",
       "              });\n",
       "            }\n",
       "            document.head.appendChild(datatableScript);\n",
       "          };\n",
       "          document.head.appendChild(jqueryScript);\n",
       "        } else {\n",
       "          window.interactive_beam_jquery(document).ready(function($){\n",
       "            \n",
       "            $(\"#progress_indicator_af61662b9f4da2be32efb83973150c58\").remove();\n",
       "          });\n",
       "        }"
      ]
     },
     "metadata": {},
     "output_type": "display_data"
    }
   ],
   "source": [
    "ib.show(dynamic_schema)"
   ]
  },
  {
   "cell_type": "code",
   "execution_count": null,
   "id": "0dc76554-0a39-4dcd-9520-31cb1884d11f",
   "metadata": {},
   "outputs": [],
   "source": []
  },
  {
   "cell_type": "code",
   "execution_count": 59,
   "id": "19201f56-2d16-4cea-8d32-a56a2d6d1bcd",
   "metadata": {},
   "outputs": [],
   "source": [
    "t = (\"CLASS\" , ['AAA', 'BBB', 'AAA'])"
   ]
  },
  {
   "cell_type": "code",
   "execution_count": 61,
   "id": "7606cbea-8de8-4a31-8ade-240ae642cff8",
   "metadata": {},
   "outputs": [
    {
     "data": {
      "text/plain": [
       "['AAA', 'BBB', 'AAA']"
      ]
     },
     "execution_count": 61,
     "metadata": {},
     "output_type": "execute_result"
    }
   ],
   "source": [
    "t[1]"
   ]
  },
  {
   "cell_type": "code",
   "execution_count": null,
   "id": "9b21f005-04f2-4bdc-9477-ac25a8e23b0e",
   "metadata": {},
   "outputs": [],
   "source": []
  }
 ],
 "metadata": {
  "kernelspec": {
   "display_name": "bq demo",
   "language": "python",
   "name": "venv_beam"
  },
  "language_info": {
   "codemirror_mode": {
    "name": "ipython",
    "version": 3
   },
   "file_extension": ".py",
   "mimetype": "text/x-python",
   "name": "python",
   "nbconvert_exporter": "python",
   "pygments_lexer": "ipython3",
   "version": "3.7.12"
  }
 },
 "nbformat": 4,
 "nbformat_minor": 5
}
