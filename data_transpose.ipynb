{
 "cells": [
  {
   "cell_type": "code",
   "execution_count": 16,
   "id": "753f94ca-4940-4ac0-8db7-5c2d96f5b3a4",
   "metadata": {},
   "outputs": [],
   "source": [
    "import logging\n",
    "import argparse\n",
    "\n",
    "import apache_beam as beam\n",
    "import apache_beam.io.gcp.bigquery as bq"
   ]
  },
  {
   "cell_type": "code",
   "execution_count": 17,
   "id": "e539b526-cb2c-4813-9ab0-706e2b38e519",
   "metadata": {},
   "outputs": [],
   "source": [
    "from apache_beam.runners.interactive.interactive_runner import InteractiveRunner\n",
    "import apache_beam.runners.interactive.interactive_beam as ib"
   ]
  },
  {
   "cell_type": "code",
   "execution_count": null,
   "id": "d6a923f2-57f3-4c39-ab1f-3faffd2c1ebb",
   "metadata": {},
   "outputs": [],
   "source": []
  },
  {
   "cell_type": "code",
   "execution_count": 18,
   "id": "d98ac141-7991-4732-a7ff-d88930665498",
   "metadata": {},
   "outputs": [],
   "source": [
    "N=9\n",
    "p = beam.Pipeline(InteractiveRunner())\n",
    "squares = (p | \"Create Elements\" >> beam.Create(range(N))\n",
    "             | \"Squares\" >> beam.Map(lambda x: x**2))"
   ]
  },
  {
   "cell_type": "code",
   "execution_count": 19,
   "id": "f3269812-12a2-4162-a807-d1424408e6c4",
   "metadata": {},
   "outputs": [
    {
     "data": {
      "text/html": [
       "\n",
       "            <link rel=\"stylesheet\" href=\"https://stackpath.bootstrapcdn.com/bootstrap/4.4.1/css/bootstrap.min.css\" integrity=\"sha384-Vkoo8x4CGsO3+Hhxv8T/Q5PaXtkKtu6ug5TOeNV6gBiFeWPGFN9MuhOf23Q9Ifjh\" crossorigin=\"anonymous\">\n",
       "            <div id=\"progress_indicator_f81067fc07d15580eac75e4393d60c93\" class=\"spinner-border text-info\" role=\"status\">\n",
       "            </div>"
      ],
      "text/plain": [
       "<IPython.core.display.HTML object>"
      ]
     },
     "metadata": {},
     "output_type": "display_data"
    },
    {
     "data": {
      "text/html": [
       "digraph G {\n",
       "node [color=blue, fontcolor=blue, shape=box];\n",
       "\"[18]: Create Elements\";\n",
       "pcoll8224 [label=\"\", shape=circle];\n",
       "\"[18]: Squares\";\n",
       "squares [shape=circle];\n",
       "\"[18]: Create Elements\" -> pcoll8224;\n",
       "pcoll8224 -> \"[18]: Squares\";\n",
       "\"[18]: Squares\" -> squares;\n",
       "}\n"
      ],
      "text/plain": [
       "<IPython.core.display.HTML object>"
      ]
     },
     "metadata": {},
     "output_type": "display_data"
    },
    {
     "data": {
      "application/javascript": [
       "\n",
       "        if (typeof window.interactive_beam_jquery == 'undefined') {\n",
       "          var jqueryScript = document.createElement('script');\n",
       "          jqueryScript.src = 'https://code.jquery.com/jquery-3.4.1.slim.min.js';\n",
       "          jqueryScript.type = 'text/javascript';\n",
       "          jqueryScript.onload = function() {\n",
       "            var datatableScript = document.createElement('script');\n",
       "            datatableScript.src = 'https://cdn.datatables.net/1.10.20/js/jquery.dataTables.min.js';\n",
       "            datatableScript.type = 'text/javascript';\n",
       "            datatableScript.onload = function() {\n",
       "              window.interactive_beam_jquery = jQuery.noConflict(true);\n",
       "              window.interactive_beam_jquery(document).ready(function($){\n",
       "                \n",
       "            $(\"#progress_indicator_f81067fc07d15580eac75e4393d60c93\").remove();\n",
       "              });\n",
       "            }\n",
       "            document.head.appendChild(datatableScript);\n",
       "          };\n",
       "          document.head.appendChild(jqueryScript);\n",
       "        } else {\n",
       "          window.interactive_beam_jquery(document).ready(function($){\n",
       "            \n",
       "            $(\"#progress_indicator_f81067fc07d15580eac75e4393d60c93\").remove();\n",
       "          });\n",
       "        }"
      ]
     },
     "metadata": {},
     "output_type": "display_data"
    }
   ],
   "source": [
    "ib.show_graph(p)"
   ]
  },
  {
   "cell_type": "code",
   "execution_count": 20,
   "id": "7e117908-194b-4a47-8ea3-def2972c3758",
   "metadata": {},
   "outputs": [
    {
     "data": {
      "text/html": [
       "\n",
       "            <link rel=\"stylesheet\" href=\"https://stackpath.bootstrapcdn.com/bootstrap/4.4.1/css/bootstrap.min.css\" integrity=\"sha384-Vkoo8x4CGsO3+Hhxv8T/Q5PaXtkKtu6ug5TOeNV6gBiFeWPGFN9MuhOf23Q9Ifjh\" crossorigin=\"anonymous\">\n",
       "            <div id=\"progress_indicator_53f2e6f7cd5a7936ad8001840fb4dda4\" class=\"spinner-border text-info\" role=\"status\">\n",
       "            </div>"
      ],
      "text/plain": [
       "<IPython.core.display.HTML object>"
      ]
     },
     "metadata": {},
     "output_type": "display_data"
    },
    {
     "data": {
      "text/html": [
       "\n",
       "            <style>\n",
       "            .p-Widget.jp-OutputPrompt.jp-OutputArea-prompt:empty {\n",
       "              padding: 0;\n",
       "              border: 0;\n",
       "            }\n",
       "            .p-Widget.jp-RenderedJavaScript.jp-mod-trusted.jp-OutputArea-output:empty {\n",
       "              padding: 0;\n",
       "              border: 0;\n",
       "            }\n",
       "            </style>\n",
       "            <link rel=\"stylesheet\" href=\"https://cdn.datatables.net/1.10.20/css/jquery.dataTables.min.css\">\n",
       "            <table id=\"table_df_f5ffc0b471b2562dbaf6ec45eee675e8\" class=\"display\" style=\"display:block\"></table>\n",
       "            <script>\n",
       "              \n",
       "        if (typeof window.interactive_beam_jquery == 'undefined') {\n",
       "          var jqueryScript = document.createElement('script');\n",
       "          jqueryScript.src = 'https://code.jquery.com/jquery-3.4.1.slim.min.js';\n",
       "          jqueryScript.type = 'text/javascript';\n",
       "          jqueryScript.onload = function() {\n",
       "            var datatableScript = document.createElement('script');\n",
       "            datatableScript.src = 'https://cdn.datatables.net/1.10.20/js/jquery.dataTables.min.js';\n",
       "            datatableScript.type = 'text/javascript';\n",
       "            datatableScript.onload = function() {\n",
       "              window.interactive_beam_jquery = jQuery.noConflict(true);\n",
       "              window.interactive_beam_jquery(document).ready(function($){\n",
       "                \n",
       "            var dt;\n",
       "            if ($.fn.dataTable.isDataTable(\"#table_df_f5ffc0b471b2562dbaf6ec45eee675e8\")) {\n",
       "              dt = $(\"#table_df_f5ffc0b471b2562dbaf6ec45eee675e8\").dataTable();\n",
       "            } else if ($(\"#table_df_f5ffc0b471b2562dbaf6ec45eee675e8_wrapper\").length == 0) {\n",
       "              dt = $(\"#table_df_f5ffc0b471b2562dbaf6ec45eee675e8\").dataTable({\n",
       "                \n",
       "            bAutoWidth: false,\n",
       "            columns: [{'title': ''}, {'title': 'squares.0'}],\n",
       "            destroy: true,\n",
       "            responsive: true,\n",
       "            columnDefs: [\n",
       "              {\n",
       "                targets: \"_all\",\n",
       "                className: \"dt-left\"\n",
       "              },\n",
       "              {\n",
       "                \"targets\": 0,\n",
       "                \"width\": \"10px\",\n",
       "                \"title\": \"\"\n",
       "              }\n",
       "            ]\n",
       "              });\n",
       "            } else {\n",
       "              return;\n",
       "            }\n",
       "            dt.api()\n",
       "              .clear()\n",
       "              .rows.add([{1: '0', 0: 0}, {1: '1', 0: 1}, {1: '4', 0: 2}, {1: '9', 0: 3}, {1: '16', 0: 4}, {1: '25', 0: 5}, {1: '36', 0: 6}, {1: '49', 0: 7}, {1: '64', 0: 8}])\n",
       "              .draw('full-hold');\n",
       "              });\n",
       "            }\n",
       "            document.head.appendChild(datatableScript);\n",
       "          };\n",
       "          document.head.appendChild(jqueryScript);\n",
       "        } else {\n",
       "          window.interactive_beam_jquery(document).ready(function($){\n",
       "            \n",
       "            var dt;\n",
       "            if ($.fn.dataTable.isDataTable(\"#table_df_f5ffc0b471b2562dbaf6ec45eee675e8\")) {\n",
       "              dt = $(\"#table_df_f5ffc0b471b2562dbaf6ec45eee675e8\").dataTable();\n",
       "            } else if ($(\"#table_df_f5ffc0b471b2562dbaf6ec45eee675e8_wrapper\").length == 0) {\n",
       "              dt = $(\"#table_df_f5ffc0b471b2562dbaf6ec45eee675e8\").dataTable({\n",
       "                \n",
       "            bAutoWidth: false,\n",
       "            columns: [{'title': ''}, {'title': 'squares.0'}],\n",
       "            destroy: true,\n",
       "            responsive: true,\n",
       "            columnDefs: [\n",
       "              {\n",
       "                targets: \"_all\",\n",
       "                className: \"dt-left\"\n",
       "              },\n",
       "              {\n",
       "                \"targets\": 0,\n",
       "                \"width\": \"10px\",\n",
       "                \"title\": \"\"\n",
       "              }\n",
       "            ]\n",
       "              });\n",
       "            } else {\n",
       "              return;\n",
       "            }\n",
       "            dt.api()\n",
       "              .clear()\n",
       "              .rows.add([{1: '0', 0: 0}, {1: '1', 0: 1}, {1: '4', 0: 2}, {1: '9', 0: 3}, {1: '16', 0: 4}, {1: '25', 0: 5}, {1: '36', 0: 6}, {1: '49', 0: 7}, {1: '64', 0: 8}])\n",
       "              .draw('full-hold');\n",
       "          });\n",
       "        }\n",
       "            </script>"
      ],
      "text/plain": [
       "<IPython.core.display.HTML object>"
      ]
     },
     "metadata": {},
     "output_type": "display_data"
    },
    {
     "data": {
      "application/javascript": [
       "\n",
       "        if (typeof window.interactive_beam_jquery == 'undefined') {\n",
       "          var jqueryScript = document.createElement('script');\n",
       "          jqueryScript.src = 'https://code.jquery.com/jquery-3.4.1.slim.min.js';\n",
       "          jqueryScript.type = 'text/javascript';\n",
       "          jqueryScript.onload = function() {\n",
       "            var datatableScript = document.createElement('script');\n",
       "            datatableScript.src = 'https://cdn.datatables.net/1.10.20/js/jquery.dataTables.min.js';\n",
       "            datatableScript.type = 'text/javascript';\n",
       "            datatableScript.onload = function() {\n",
       "              window.interactive_beam_jquery = jQuery.noConflict(true);\n",
       "              window.interactive_beam_jquery(document).ready(function($){\n",
       "                \n",
       "            $(\"#progress_indicator_53f2e6f7cd5a7936ad8001840fb4dda4\").remove();\n",
       "              });\n",
       "            }\n",
       "            document.head.appendChild(datatableScript);\n",
       "          };\n",
       "          document.head.appendChild(jqueryScript);\n",
       "        } else {\n",
       "          window.interactive_beam_jquery(document).ready(function($){\n",
       "            \n",
       "            $(\"#progress_indicator_53f2e6f7cd5a7936ad8001840fb4dda4\").remove();\n",
       "          });\n",
       "        }"
      ]
     },
     "metadata": {},
     "output_type": "display_data"
    }
   ],
   "source": [
    "ib.show(squares)"
   ]
  },
  {
   "cell_type": "code",
   "execution_count": 279,
   "id": "06c32179-0262-4422-bf8a-9dc947e84bcd",
   "metadata": {},
   "outputs": [],
   "source": [
    "PROJECT_ID =\"my-bq-demo\"\n",
    "DATASET_ID=\"input\"\n",
    "TABLE_ID=\"input_for_transpose\"\n",
    "INPUT_SCHEMA = {\n",
    "    'fields': [{\n",
    "        'name': 'ID', \n",
    "        'type': 'INTEGER', \n",
    "        'mode': 'REQUIRED'\n",
    "    }, \n",
    "    {\n",
    "        'name': 'CLASS', \n",
    "        'type': 'STRING', \n",
    "        'mode': 'NULLABLE'\n",
    "    },\n",
    "    {\n",
    "        'name': 'SALES', \n",
    "        'type': 'FLOAT', \n",
    "        'mode': 'NULLABLE'\n",
    "        }]\n",
    "        }\n",
    "\n",
    "OUTPUT_SCHEMA ={'fields': []}\n",
    "key_field = ['ID']\n",
    "pivot_field = ['CLASS']\n",
    "value_field = ['SALES']\n",
    "value_schema = {'SALES':'FLOAT'}\n",
    "table_id = 'my-bq-demo:output.out111'"
   ]
  },
  {
   "cell_type": "code",
   "execution_count": 258,
   "id": "8de4eb49-0451-440f-854d-a9c2df4a3c20",
   "metadata": {},
   "outputs": [],
   "source": [
    "class GetPivotValues(beam.DoFn):\n",
    "    def process(self, element):\n",
    "        print(element)\n",
    "        rt_elem = {}\n",
    "        row = element\n",
    "        for field in pivot_field:\n",
    "            rt_elem = {field, row[field]}\n",
    "            yield rt_elem"
   ]
  },
  {
   "cell_type": "code",
   "execution_count": 259,
   "id": "2fba780d-8c2f-4361-bca6-96900e226e8e",
   "metadata": {},
   "outputs": [],
   "source": [
    "class UniqueList(beam.DoFn):\n",
    "    def process(self, element):\n",
    "        rt_elem =  list(set(element[1])) \n",
    "        yield rt_elem"
   ]
  },
  {
   "cell_type": "code",
   "execution_count": 287,
   "id": "a241dce5-bc9a-41db-a58f-d20507b88ec8",
   "metadata": {},
   "outputs": [],
   "source": [
    "class FoldPivotValues(beam.DoFn):\n",
    "    def process(self, element):\n",
    "        rt_dict={}\n",
    "        rt_dict['mode'] = 'NULLABLE'\n",
    "        for piv in element:\n",
    "            for val in value_field:\n",
    "                name = f\"{piv}_{val}\"\n",
    "                rt_dict['name'] = name\n",
    "                rt_dict['type'] = value_schema[val]\n",
    "                # OUTPUT_SCHEMA['fields'].append(rt_dict)\n",
    "                yield rt_dict\n",
    "         "
   ]
  },
  {
   "cell_type": "code",
   "execution_count": 288,
   "id": "4bc23de7-07cc-4a87-8bf6-314087a2fd0f",
   "metadata": {},
   "outputs": [],
   "source": [
    "def getKeyFieldSchema(list_keys):\n",
    "    rt_l = []\n",
    "    for key in list_keys:\n",
    "        for d in INPUT_SCHEMA['fields']:\n",
    "            if (d['name'] == key):\n",
    "                rt_l.append(d)\n",
    "                # OUTPUT_SCHEMA['fields'].append(d)\n",
    "    return rt_l"
   ]
  },
  {
   "cell_type": "code",
   "execution_count": 262,
   "id": "03400a5c-72fc-42ed-bb27-e6f896b672c7",
   "metadata": {},
   "outputs": [
    {
     "data": {
      "text/plain": [
       "[{'name': 'ID', 'type': 'INTEGER', 'mode': 'REQUIRED'}]"
      ]
     },
     "execution_count": 262,
     "metadata": {},
     "output_type": "execute_result"
    }
   ],
   "source": [
    "getKeyFieldSchema(key_field)"
   ]
  },
  {
   "cell_type": "code",
   "execution_count": 275,
   "id": "7d3e3fe6-3f91-4298-b2f1-702164b31146",
   "metadata": {},
   "outputs": [],
   "source": [
    "def addToOutputSchema(element):\n",
    "    OUTPUT_SCHEMA['fields'].append(element)"
   ]
  },
  {
   "cell_type": "code",
   "execution_count": null,
   "id": "644f1e65-9fc8-4c34-acf1-a03b9f43e188",
   "metadata": {},
   "outputs": [],
   "source": [
    "\n"
   ]
  },
  {
   "cell_type": "code",
   "execution_count": 293,
   "id": "bf5cbc0c-e5ec-477b-a409-8afef822bb26",
   "metadata": {},
   "outputs": [
    {
     "name": "stdout",
     "output_type": "stream",
     "text": [
      "{'ID': 123, 'CLASS': 'AAA', 'SALES': 101.44}\n",
      "{'ID': 123, 'CLASS': 'BBB', 'SALES': 345.44}\n",
      "{'ID': 1234, 'CLASS': 'AAA', 'SALES': 458.44}\n"
     ]
    }
   ],
   "source": [
    "\n",
    "OUTPUT_SCHEMA ={'fields': []}\n",
    "with beam.Pipeline(InteractiveRunner()) as p:\n",
    "        \n",
    "        input_table = ( p \n",
    "                    | \"Read BigQuery table\" >>  beam.Create(\n",
    "                         [{\"ID\":123, \"CLASS\": \"AAA\", \"SALES\":101.44},\n",
    "                        {\"ID\":123, \"CLASS\": \"BBB\", \"SALES\":345.44},\n",
    "                        {\"ID\":1234, \"CLASS\": \"AAA\", \"SALES\":458.44}]\n",
    "                        )\n",
    "                    )\n",
    "        pivoted_schema = ( input_table\n",
    "                  | \"Get Pivot Schema\" >> beam.ParDo(GetPivotValues())        \n",
    "                  | \"Group by pivot field\" >> beam.GroupByKey()\n",
    "                  | \"Get unique list\" >> beam.ParDo(UniqueList())\n",
    "                  | \"Fold pivot values to columns\" >> beam.ParDo(\n",
    "                        FoldPivotValues())\n",
    "                 )\n",
    "        list_key_dict = getKeyFieldSchema(key_field)\n",
    "        key_schema = (p \n",
    "                      | \"Create Key Schema\" >> beam.Create(list_key_dict)\n",
    "                     )\n",
    "        # merged = ((input1,input2) | 'Merge PCollections' >> beam.Flatten())\n",
    "        dynamic_schema = ( (key_schema,pivoted_schema) \n",
    "                          | 'Merge Schema' >> beam.Flatten()\n",
    "                          # | \"Dynamic Schema\" >> beam.CombineGlobally(beam.combiners.ToListCombineFn())\n",
    "                )\n",
    "        # (dynamic_schema  \n",
    "        #             | \"add to the output schema\" >> beam.Map(addToOutputSchema)\n",
    "        #                           )\n",
    "        # print(\"=====\")        \n",
    "        # print(OUTPUT_SCHEMA)\n",
    "        OUTPUT_SCHEMA['fields'] = beam.pvalue.AsList(dynamic_schema)        "
   ]
  },
  {
   "cell_type": "code",
   "execution_count": 294,
   "id": "84e4af25-502b-458f-a2a1-26edad9388d1",
   "metadata": {},
   "outputs": [
    {
     "name": "stdout",
     "output_type": "stream",
     "text": [
      "{'fields': <apache_beam.pvalue.AsList object at 0x1436f9a90>}\n"
     ]
    }
   ],
   "source": [
    "print(OUTPUT_SCHEMA)"
   ]
  },
  {
   "cell_type": "code",
   "execution_count": null,
   "id": "cdc32e55-c119-494c-91cb-af32932fc73c",
   "metadata": {},
   "outputs": [],
   "source": [
    "{'fields': [{'name': 'ID', 'type': 'INTEGER', 'mode': 'REQUIRED'},\n",
    "            {'mode': 'NULLABLE', 'name': 'BBB_SALES', 'type': 'FLOAT'}, \n",
    "            {'mode': 'NULLABLE', 'name': 'BBB_SALES', 'type': 'FLOAT'}, \n",
    "            \n",
    "            [{'name': 'ID', 'type': 'INTEGER', 'mode': 'REQUIRED'}, \n",
    "             {'mode': 'NULLABLE', 'name': 'AAA_SALES', 'type': 'FLOAT'}, \n",
    "             {'mode': 'NULLABLE', 'name': 'BBB_SALES', 'type': 'FLOAT'}]]}\n"
   ]
  },
  {
   "cell_type": "code",
   "execution_count": 295,
   "id": "728e6c7a-7ba9-43bc-96ef-858aa6bfaa56",
   "metadata": {},
   "outputs": [
    {
     "data": {
      "text/html": [
       "\n",
       "            <link rel=\"stylesheet\" href=\"https://stackpath.bootstrapcdn.com/bootstrap/4.4.1/css/bootstrap.min.css\" integrity=\"sha384-Vkoo8x4CGsO3+Hhxv8T/Q5PaXtkKtu6ug5TOeNV6gBiFeWPGFN9MuhOf23Q9Ifjh\" crossorigin=\"anonymous\">\n",
       "            <div id=\"progress_indicator_7304b9227c41b20a55f4042c904a661a\" class=\"spinner-border text-info\" role=\"status\">\n",
       "            </div>"
      ],
      "text/plain": [
       "<IPython.core.display.HTML object>"
      ]
     },
     "metadata": {},
     "output_type": "display_data"
    },
    {
     "data": {
      "text/html": [
       "\n",
       "            <style>\n",
       "            .p-Widget.jp-OutputPrompt.jp-OutputArea-prompt:empty {\n",
       "              padding: 0;\n",
       "              border: 0;\n",
       "            }\n",
       "            .p-Widget.jp-RenderedJavaScript.jp-mod-trusted.jp-OutputArea-output:empty {\n",
       "              padding: 0;\n",
       "              border: 0;\n",
       "            }\n",
       "            </style>\n",
       "            <link rel=\"stylesheet\" href=\"https://cdn.datatables.net/1.10.20/css/jquery.dataTables.min.css\">\n",
       "            <table id=\"table_df_819485021723ccd09e6be934917a5ff7\" class=\"display\" style=\"display:block\"></table>\n",
       "            <script>\n",
       "              \n",
       "        if (typeof window.interactive_beam_jquery == 'undefined') {\n",
       "          var jqueryScript = document.createElement('script');\n",
       "          jqueryScript.src = 'https://code.jquery.com/jquery-3.4.1.slim.min.js';\n",
       "          jqueryScript.type = 'text/javascript';\n",
       "          jqueryScript.onload = function() {\n",
       "            var datatableScript = document.createElement('script');\n",
       "            datatableScript.src = 'https://cdn.datatables.net/1.10.20/js/jquery.dataTables.min.js';\n",
       "            datatableScript.type = 'text/javascript';\n",
       "            datatableScript.onload = function() {\n",
       "              window.interactive_beam_jquery = jQuery.noConflict(true);\n",
       "              window.interactive_beam_jquery(document).ready(function($){\n",
       "                \n",
       "            var dt;\n",
       "            if ($.fn.dataTable.isDataTable(\"#table_df_819485021723ccd09e6be934917a5ff7\")) {\n",
       "              dt = $(\"#table_df_819485021723ccd09e6be934917a5ff7\").dataTable();\n",
       "            } else if ($(\"#table_df_819485021723ccd09e6be934917a5ff7_wrapper\").length == 0) {\n",
       "              dt = $(\"#table_df_819485021723ccd09e6be934917a5ff7\").dataTable({\n",
       "                \n",
       "            bAutoWidth: false,\n",
       "            columns: [{'title': ''}, {'title': 'ID'}, {'title': 'CLASS'}, {'title': 'SALES'}],\n",
       "            destroy: true,\n",
       "            responsive: true,\n",
       "            columnDefs: [\n",
       "              {\n",
       "                targets: \"_all\",\n",
       "                className: \"dt-left\"\n",
       "              },\n",
       "              {\n",
       "                \"targets\": 0,\n",
       "                \"width\": \"10px\",\n",
       "                \"title\": \"\"\n",
       "              }\n",
       "            ]\n",
       "              });\n",
       "            } else {\n",
       "              return;\n",
       "            }\n",
       "            dt.api()\n",
       "              .clear()\n",
       "              .rows.add([{1: '123', 2: 'AAA', 3: '101.44', 0: 0}, {1: '123', 2: 'BBB', 3: '345.44', 0: 1}, {1: '1234', 2: 'AAA', 3: '458.44', 0: 2}])\n",
       "              .draw('full-hold');\n",
       "              });\n",
       "            }\n",
       "            document.head.appendChild(datatableScript);\n",
       "          };\n",
       "          document.head.appendChild(jqueryScript);\n",
       "        } else {\n",
       "          window.interactive_beam_jquery(document).ready(function($){\n",
       "            \n",
       "            var dt;\n",
       "            if ($.fn.dataTable.isDataTable(\"#table_df_819485021723ccd09e6be934917a5ff7\")) {\n",
       "              dt = $(\"#table_df_819485021723ccd09e6be934917a5ff7\").dataTable();\n",
       "            } else if ($(\"#table_df_819485021723ccd09e6be934917a5ff7_wrapper\").length == 0) {\n",
       "              dt = $(\"#table_df_819485021723ccd09e6be934917a5ff7\").dataTable({\n",
       "                \n",
       "            bAutoWidth: false,\n",
       "            columns: [{'title': ''}, {'title': 'ID'}, {'title': 'CLASS'}, {'title': 'SALES'}],\n",
       "            destroy: true,\n",
       "            responsive: true,\n",
       "            columnDefs: [\n",
       "              {\n",
       "                targets: \"_all\",\n",
       "                className: \"dt-left\"\n",
       "              },\n",
       "              {\n",
       "                \"targets\": 0,\n",
       "                \"width\": \"10px\",\n",
       "                \"title\": \"\"\n",
       "              }\n",
       "            ]\n",
       "              });\n",
       "            } else {\n",
       "              return;\n",
       "            }\n",
       "            dt.api()\n",
       "              .clear()\n",
       "              .rows.add([{1: '123', 2: 'AAA', 3: '101.44', 0: 0}, {1: '123', 2: 'BBB', 3: '345.44', 0: 1}, {1: '1234', 2: 'AAA', 3: '458.44', 0: 2}])\n",
       "              .draw('full-hold');\n",
       "          });\n",
       "        }\n",
       "            </script>"
      ],
      "text/plain": [
       "<IPython.core.display.HTML object>"
      ]
     },
     "metadata": {},
     "output_type": "display_data"
    },
    {
     "data": {
      "application/javascript": [
       "\n",
       "        if (typeof window.interactive_beam_jquery == 'undefined') {\n",
       "          var jqueryScript = document.createElement('script');\n",
       "          jqueryScript.src = 'https://code.jquery.com/jquery-3.4.1.slim.min.js';\n",
       "          jqueryScript.type = 'text/javascript';\n",
       "          jqueryScript.onload = function() {\n",
       "            var datatableScript = document.createElement('script');\n",
       "            datatableScript.src = 'https://cdn.datatables.net/1.10.20/js/jquery.dataTables.min.js';\n",
       "            datatableScript.type = 'text/javascript';\n",
       "            datatableScript.onload = function() {\n",
       "              window.interactive_beam_jquery = jQuery.noConflict(true);\n",
       "              window.interactive_beam_jquery(document).ready(function($){\n",
       "                \n",
       "            $(\"#progress_indicator_7304b9227c41b20a55f4042c904a661a\").remove();\n",
       "              });\n",
       "            }\n",
       "            document.head.appendChild(datatableScript);\n",
       "          };\n",
       "          document.head.appendChild(jqueryScript);\n",
       "        } else {\n",
       "          window.interactive_beam_jquery(document).ready(function($){\n",
       "            \n",
       "            $(\"#progress_indicator_7304b9227c41b20a55f4042c904a661a\").remove();\n",
       "          });\n",
       "        }"
      ]
     },
     "metadata": {},
     "output_type": "display_data"
    }
   ],
   "source": [
    "ib.show(input_table)"
   ]
  },
  {
   "cell_type": "code",
   "execution_count": 296,
   "id": "d4e4e359-999b-42b9-9c8c-5c6083dd9ec3",
   "metadata": {},
   "outputs": [
    {
     "data": {
      "text/html": [
       "\n",
       "            <link rel=\"stylesheet\" href=\"https://stackpath.bootstrapcdn.com/bootstrap/4.4.1/css/bootstrap.min.css\" integrity=\"sha384-Vkoo8x4CGsO3+Hhxv8T/Q5PaXtkKtu6ug5TOeNV6gBiFeWPGFN9MuhOf23Q9Ifjh\" crossorigin=\"anonymous\">\n",
       "            <div id=\"progress_indicator_7ebe6de16ded8e4bfd7ecac8e6a6ab7c\" class=\"spinner-border text-info\" role=\"status\">\n",
       "            </div>"
      ],
      "text/plain": [
       "<IPython.core.display.HTML object>"
      ]
     },
     "metadata": {},
     "output_type": "display_data"
    },
    {
     "data": {
      "text/html": [
       "\n",
       "            <style>\n",
       "            .p-Widget.jp-OutputPrompt.jp-OutputArea-prompt:empty {\n",
       "              padding: 0;\n",
       "              border: 0;\n",
       "            }\n",
       "            .p-Widget.jp-RenderedJavaScript.jp-mod-trusted.jp-OutputArea-output:empty {\n",
       "              padding: 0;\n",
       "              border: 0;\n",
       "            }\n",
       "            </style>\n",
       "            <link rel=\"stylesheet\" href=\"https://cdn.datatables.net/1.10.20/css/jquery.dataTables.min.css\">\n",
       "            <table id=\"table_df_993aa2b12a8e9acd60b80cd3814ae860\" class=\"display\" style=\"display:block\"></table>\n",
       "            <script>\n",
       "              \n",
       "        if (typeof window.interactive_beam_jquery == 'undefined') {\n",
       "          var jqueryScript = document.createElement('script');\n",
       "          jqueryScript.src = 'https://code.jquery.com/jquery-3.4.1.slim.min.js';\n",
       "          jqueryScript.type = 'text/javascript';\n",
       "          jqueryScript.onload = function() {\n",
       "            var datatableScript = document.createElement('script');\n",
       "            datatableScript.src = 'https://cdn.datatables.net/1.10.20/js/jquery.dataTables.min.js';\n",
       "            datatableScript.type = 'text/javascript';\n",
       "            datatableScript.onload = function() {\n",
       "              window.interactive_beam_jquery = jQuery.noConflict(true);\n",
       "              window.interactive_beam_jquery(document).ready(function($){\n",
       "                \n",
       "            var dt;\n",
       "            if ($.fn.dataTable.isDataTable(\"#table_df_993aa2b12a8e9acd60b80cd3814ae860\")) {\n",
       "              dt = $(\"#table_df_993aa2b12a8e9acd60b80cd3814ae860\").dataTable();\n",
       "            } else if ($(\"#table_df_993aa2b12a8e9acd60b80cd3814ae860_wrapper\").length == 0) {\n",
       "              dt = $(\"#table_df_993aa2b12a8e9acd60b80cd3814ae860\").dataTable({\n",
       "                \n",
       "            bAutoWidth: false,\n",
       "            columns: [{'title': ''}, {'title': 'mode'}, {'title': 'name'}, {'title': 'type'}],\n",
       "            destroy: true,\n",
       "            responsive: true,\n",
       "            columnDefs: [\n",
       "              {\n",
       "                targets: \"_all\",\n",
       "                className: \"dt-left\"\n",
       "              },\n",
       "              {\n",
       "                \"targets\": 0,\n",
       "                \"width\": \"10px\",\n",
       "                \"title\": \"\"\n",
       "              }\n",
       "            ]\n",
       "              });\n",
       "            } else {\n",
       "              return;\n",
       "            }\n",
       "            dt.api()\n",
       "              .clear()\n",
       "              .rows.add([{1: 'NULLABLE', 2: 'AAA_SALES', 3: 'FLOAT', 0: 0}, {1: 'NULLABLE', 2: 'BBB_SALES', 3: 'FLOAT', 0: 1}])\n",
       "              .draw('full-hold');\n",
       "              });\n",
       "            }\n",
       "            document.head.appendChild(datatableScript);\n",
       "          };\n",
       "          document.head.appendChild(jqueryScript);\n",
       "        } else {\n",
       "          window.interactive_beam_jquery(document).ready(function($){\n",
       "            \n",
       "            var dt;\n",
       "            if ($.fn.dataTable.isDataTable(\"#table_df_993aa2b12a8e9acd60b80cd3814ae860\")) {\n",
       "              dt = $(\"#table_df_993aa2b12a8e9acd60b80cd3814ae860\").dataTable();\n",
       "            } else if ($(\"#table_df_993aa2b12a8e9acd60b80cd3814ae860_wrapper\").length == 0) {\n",
       "              dt = $(\"#table_df_993aa2b12a8e9acd60b80cd3814ae860\").dataTable({\n",
       "                \n",
       "            bAutoWidth: false,\n",
       "            columns: [{'title': ''}, {'title': 'mode'}, {'title': 'name'}, {'title': 'type'}],\n",
       "            destroy: true,\n",
       "            responsive: true,\n",
       "            columnDefs: [\n",
       "              {\n",
       "                targets: \"_all\",\n",
       "                className: \"dt-left\"\n",
       "              },\n",
       "              {\n",
       "                \"targets\": 0,\n",
       "                \"width\": \"10px\",\n",
       "                \"title\": \"\"\n",
       "              }\n",
       "            ]\n",
       "              });\n",
       "            } else {\n",
       "              return;\n",
       "            }\n",
       "            dt.api()\n",
       "              .clear()\n",
       "              .rows.add([{1: 'NULLABLE', 2: 'AAA_SALES', 3: 'FLOAT', 0: 0}, {1: 'NULLABLE', 2: 'BBB_SALES', 3: 'FLOAT', 0: 1}])\n",
       "              .draw('full-hold');\n",
       "          });\n",
       "        }\n",
       "            </script>"
      ],
      "text/plain": [
       "<IPython.core.display.HTML object>"
      ]
     },
     "metadata": {},
     "output_type": "display_data"
    },
    {
     "data": {
      "application/javascript": [
       "\n",
       "        if (typeof window.interactive_beam_jquery == 'undefined') {\n",
       "          var jqueryScript = document.createElement('script');\n",
       "          jqueryScript.src = 'https://code.jquery.com/jquery-3.4.1.slim.min.js';\n",
       "          jqueryScript.type = 'text/javascript';\n",
       "          jqueryScript.onload = function() {\n",
       "            var datatableScript = document.createElement('script');\n",
       "            datatableScript.src = 'https://cdn.datatables.net/1.10.20/js/jquery.dataTables.min.js';\n",
       "            datatableScript.type = 'text/javascript';\n",
       "            datatableScript.onload = function() {\n",
       "              window.interactive_beam_jquery = jQuery.noConflict(true);\n",
       "              window.interactive_beam_jquery(document).ready(function($){\n",
       "                \n",
       "            $(\"#progress_indicator_7ebe6de16ded8e4bfd7ecac8e6a6ab7c\").remove();\n",
       "              });\n",
       "            }\n",
       "            document.head.appendChild(datatableScript);\n",
       "          };\n",
       "          document.head.appendChild(jqueryScript);\n",
       "        } else {\n",
       "          window.interactive_beam_jquery(document).ready(function($){\n",
       "            \n",
       "            $(\"#progress_indicator_7ebe6de16ded8e4bfd7ecac8e6a6ab7c\").remove();\n",
       "          });\n",
       "        }"
      ]
     },
     "metadata": {},
     "output_type": "display_data"
    }
   ],
   "source": [
    "ib.show(pivoted_schema)"
   ]
  },
  {
   "cell_type": "code",
   "execution_count": 297,
   "id": "d9c9301e-a839-401f-9bb4-4e0805fe34a0",
   "metadata": {},
   "outputs": [
    {
     "data": {
      "text/html": [
       "\n",
       "            <link rel=\"stylesheet\" href=\"https://stackpath.bootstrapcdn.com/bootstrap/4.4.1/css/bootstrap.min.css\" integrity=\"sha384-Vkoo8x4CGsO3+Hhxv8T/Q5PaXtkKtu6ug5TOeNV6gBiFeWPGFN9MuhOf23Q9Ifjh\" crossorigin=\"anonymous\">\n",
       "            <div id=\"progress_indicator_1387c8a98190c9466e5379264f3a7c71\" class=\"spinner-border text-info\" role=\"status\">\n",
       "            </div>"
      ],
      "text/plain": [
       "<IPython.core.display.HTML object>"
      ]
     },
     "metadata": {},
     "output_type": "display_data"
    },
    {
     "data": {
      "text/html": [
       "\n",
       "            <style>\n",
       "            .p-Widget.jp-OutputPrompt.jp-OutputArea-prompt:empty {\n",
       "              padding: 0;\n",
       "              border: 0;\n",
       "            }\n",
       "            .p-Widget.jp-RenderedJavaScript.jp-mod-trusted.jp-OutputArea-output:empty {\n",
       "              padding: 0;\n",
       "              border: 0;\n",
       "            }\n",
       "            </style>\n",
       "            <link rel=\"stylesheet\" href=\"https://cdn.datatables.net/1.10.20/css/jquery.dataTables.min.css\">\n",
       "            <table id=\"table_df_d21c573487915c88a0b1114f4864a4a0\" class=\"display\" style=\"display:block\"></table>\n",
       "            <script>\n",
       "              \n",
       "        if (typeof window.interactive_beam_jquery == 'undefined') {\n",
       "          var jqueryScript = document.createElement('script');\n",
       "          jqueryScript.src = 'https://code.jquery.com/jquery-3.4.1.slim.min.js';\n",
       "          jqueryScript.type = 'text/javascript';\n",
       "          jqueryScript.onload = function() {\n",
       "            var datatableScript = document.createElement('script');\n",
       "            datatableScript.src = 'https://cdn.datatables.net/1.10.20/js/jquery.dataTables.min.js';\n",
       "            datatableScript.type = 'text/javascript';\n",
       "            datatableScript.onload = function() {\n",
       "              window.interactive_beam_jquery = jQuery.noConflict(true);\n",
       "              window.interactive_beam_jquery(document).ready(function($){\n",
       "                \n",
       "            var dt;\n",
       "            if ($.fn.dataTable.isDataTable(\"#table_df_d21c573487915c88a0b1114f4864a4a0\")) {\n",
       "              dt = $(\"#table_df_d21c573487915c88a0b1114f4864a4a0\").dataTable();\n",
       "            } else if ($(\"#table_df_d21c573487915c88a0b1114f4864a4a0_wrapper\").length == 0) {\n",
       "              dt = $(\"#table_df_d21c573487915c88a0b1114f4864a4a0\").dataTable({\n",
       "                \n",
       "            bAutoWidth: false,\n",
       "            columns: [{'title': ''}, {'title': 'name'}, {'title': 'type'}, {'title': 'mode'}],\n",
       "            destroy: true,\n",
       "            responsive: true,\n",
       "            columnDefs: [\n",
       "              {\n",
       "                targets: \"_all\",\n",
       "                className: \"dt-left\"\n",
       "              },\n",
       "              {\n",
       "                \"targets\": 0,\n",
       "                \"width\": \"10px\",\n",
       "                \"title\": \"\"\n",
       "              }\n",
       "            ]\n",
       "              });\n",
       "            } else {\n",
       "              return;\n",
       "            }\n",
       "            dt.api()\n",
       "              .clear()\n",
       "              .rows.add([{1: 'ID', 2: 'INTEGER', 3: 'REQUIRED', 0: 0}])\n",
       "              .draw('full-hold');\n",
       "              });\n",
       "            }\n",
       "            document.head.appendChild(datatableScript);\n",
       "          };\n",
       "          document.head.appendChild(jqueryScript);\n",
       "        } else {\n",
       "          window.interactive_beam_jquery(document).ready(function($){\n",
       "            \n",
       "            var dt;\n",
       "            if ($.fn.dataTable.isDataTable(\"#table_df_d21c573487915c88a0b1114f4864a4a0\")) {\n",
       "              dt = $(\"#table_df_d21c573487915c88a0b1114f4864a4a0\").dataTable();\n",
       "            } else if ($(\"#table_df_d21c573487915c88a0b1114f4864a4a0_wrapper\").length == 0) {\n",
       "              dt = $(\"#table_df_d21c573487915c88a0b1114f4864a4a0\").dataTable({\n",
       "                \n",
       "            bAutoWidth: false,\n",
       "            columns: [{'title': ''}, {'title': 'name'}, {'title': 'type'}, {'title': 'mode'}],\n",
       "            destroy: true,\n",
       "            responsive: true,\n",
       "            columnDefs: [\n",
       "              {\n",
       "                targets: \"_all\",\n",
       "                className: \"dt-left\"\n",
       "              },\n",
       "              {\n",
       "                \"targets\": 0,\n",
       "                \"width\": \"10px\",\n",
       "                \"title\": \"\"\n",
       "              }\n",
       "            ]\n",
       "              });\n",
       "            } else {\n",
       "              return;\n",
       "            }\n",
       "            dt.api()\n",
       "              .clear()\n",
       "              .rows.add([{1: 'ID', 2: 'INTEGER', 3: 'REQUIRED', 0: 0}])\n",
       "              .draw('full-hold');\n",
       "          });\n",
       "        }\n",
       "            </script>"
      ],
      "text/plain": [
       "<IPython.core.display.HTML object>"
      ]
     },
     "metadata": {},
     "output_type": "display_data"
    },
    {
     "data": {
      "application/javascript": [
       "\n",
       "        if (typeof window.interactive_beam_jquery == 'undefined') {\n",
       "          var jqueryScript = document.createElement('script');\n",
       "          jqueryScript.src = 'https://code.jquery.com/jquery-3.4.1.slim.min.js';\n",
       "          jqueryScript.type = 'text/javascript';\n",
       "          jqueryScript.onload = function() {\n",
       "            var datatableScript = document.createElement('script');\n",
       "            datatableScript.src = 'https://cdn.datatables.net/1.10.20/js/jquery.dataTables.min.js';\n",
       "            datatableScript.type = 'text/javascript';\n",
       "            datatableScript.onload = function() {\n",
       "              window.interactive_beam_jquery = jQuery.noConflict(true);\n",
       "              window.interactive_beam_jquery(document).ready(function($){\n",
       "                \n",
       "            $(\"#progress_indicator_1387c8a98190c9466e5379264f3a7c71\").remove();\n",
       "              });\n",
       "            }\n",
       "            document.head.appendChild(datatableScript);\n",
       "          };\n",
       "          document.head.appendChild(jqueryScript);\n",
       "        } else {\n",
       "          window.interactive_beam_jquery(document).ready(function($){\n",
       "            \n",
       "            $(\"#progress_indicator_1387c8a98190c9466e5379264f3a7c71\").remove();\n",
       "          });\n",
       "        }"
      ]
     },
     "metadata": {},
     "output_type": "display_data"
    }
   ],
   "source": [
    "ib.show(key_schema)"
   ]
  },
  {
   "cell_type": "code",
   "execution_count": 298,
   "id": "9a479b4a-b078-4a87-9894-6c3829f75a4e",
   "metadata": {},
   "outputs": [
    {
     "data": {
      "text/html": [
       "\n",
       "            <link rel=\"stylesheet\" href=\"https://stackpath.bootstrapcdn.com/bootstrap/4.4.1/css/bootstrap.min.css\" integrity=\"sha384-Vkoo8x4CGsO3+Hhxv8T/Q5PaXtkKtu6ug5TOeNV6gBiFeWPGFN9MuhOf23Q9Ifjh\" crossorigin=\"anonymous\">\n",
       "            <div id=\"progress_indicator_344b6eb2ea190016597d33b3f1be5133\" class=\"spinner-border text-info\" role=\"status\">\n",
       "            </div>"
      ],
      "text/plain": [
       "<IPython.core.display.HTML object>"
      ]
     },
     "metadata": {},
     "output_type": "display_data"
    },
    {
     "data": {
      "text/html": [
       "\n",
       "            <style>\n",
       "            .p-Widget.jp-OutputPrompt.jp-OutputArea-prompt:empty {\n",
       "              padding: 0;\n",
       "              border: 0;\n",
       "            }\n",
       "            .p-Widget.jp-RenderedJavaScript.jp-mod-trusted.jp-OutputArea-output:empty {\n",
       "              padding: 0;\n",
       "              border: 0;\n",
       "            }\n",
       "            </style>\n",
       "            <link rel=\"stylesheet\" href=\"https://cdn.datatables.net/1.10.20/css/jquery.dataTables.min.css\">\n",
       "            <table id=\"table_df_d3ca15e2669ebabb9c2a9bb716111fd3\" class=\"display\" style=\"display:block\"></table>\n",
       "            <script>\n",
       "              \n",
       "        if (typeof window.interactive_beam_jquery == 'undefined') {\n",
       "          var jqueryScript = document.createElement('script');\n",
       "          jqueryScript.src = 'https://code.jquery.com/jquery-3.4.1.slim.min.js';\n",
       "          jqueryScript.type = 'text/javascript';\n",
       "          jqueryScript.onload = function() {\n",
       "            var datatableScript = document.createElement('script');\n",
       "            datatableScript.src = 'https://cdn.datatables.net/1.10.20/js/jquery.dataTables.min.js';\n",
       "            datatableScript.type = 'text/javascript';\n",
       "            datatableScript.onload = function() {\n",
       "              window.interactive_beam_jquery = jQuery.noConflict(true);\n",
       "              window.interactive_beam_jquery(document).ready(function($){\n",
       "                \n",
       "            var dt;\n",
       "            if ($.fn.dataTable.isDataTable(\"#table_df_d3ca15e2669ebabb9c2a9bb716111fd3\")) {\n",
       "              dt = $(\"#table_df_d3ca15e2669ebabb9c2a9bb716111fd3\").dataTable();\n",
       "            } else if ($(\"#table_df_d3ca15e2669ebabb9c2a9bb716111fd3_wrapper\").length == 0) {\n",
       "              dt = $(\"#table_df_d3ca15e2669ebabb9c2a9bb716111fd3\").dataTable({\n",
       "                \n",
       "            bAutoWidth: false,\n",
       "            columns: [{'title': ''}, {'title': 'mode'}, {'title': 'name'}, {'title': 'type'}],\n",
       "            destroy: true,\n",
       "            responsive: true,\n",
       "            columnDefs: [\n",
       "              {\n",
       "                targets: \"_all\",\n",
       "                className: \"dt-left\"\n",
       "              },\n",
       "              {\n",
       "                \"targets\": 0,\n",
       "                \"width\": \"10px\",\n",
       "                \"title\": \"\"\n",
       "              }\n",
       "            ]\n",
       "              });\n",
       "            } else {\n",
       "              return;\n",
       "            }\n",
       "            dt.api()\n",
       "              .clear()\n",
       "              .rows.add([{1: 'NULLABLE', 2: 'AAA_SALES', 3: 'FLOAT', 0: 0}, {1: 'NULLABLE', 2: 'BBB_SALES', 3: 'FLOAT', 0: 1}, {1: 'REQUIRED', 2: 'ID', 3: 'INTEGER', 0: 2}])\n",
       "              .draw('full-hold');\n",
       "              });\n",
       "            }\n",
       "            document.head.appendChild(datatableScript);\n",
       "          };\n",
       "          document.head.appendChild(jqueryScript);\n",
       "        } else {\n",
       "          window.interactive_beam_jquery(document).ready(function($){\n",
       "            \n",
       "            var dt;\n",
       "            if ($.fn.dataTable.isDataTable(\"#table_df_d3ca15e2669ebabb9c2a9bb716111fd3\")) {\n",
       "              dt = $(\"#table_df_d3ca15e2669ebabb9c2a9bb716111fd3\").dataTable();\n",
       "            } else if ($(\"#table_df_d3ca15e2669ebabb9c2a9bb716111fd3_wrapper\").length == 0) {\n",
       "              dt = $(\"#table_df_d3ca15e2669ebabb9c2a9bb716111fd3\").dataTable({\n",
       "                \n",
       "            bAutoWidth: false,\n",
       "            columns: [{'title': ''}, {'title': 'mode'}, {'title': 'name'}, {'title': 'type'}],\n",
       "            destroy: true,\n",
       "            responsive: true,\n",
       "            columnDefs: [\n",
       "              {\n",
       "                targets: \"_all\",\n",
       "                className: \"dt-left\"\n",
       "              },\n",
       "              {\n",
       "                \"targets\": 0,\n",
       "                \"width\": \"10px\",\n",
       "                \"title\": \"\"\n",
       "              }\n",
       "            ]\n",
       "              });\n",
       "            } else {\n",
       "              return;\n",
       "            }\n",
       "            dt.api()\n",
       "              .clear()\n",
       "              .rows.add([{1: 'NULLABLE', 2: 'AAA_SALES', 3: 'FLOAT', 0: 0}, {1: 'NULLABLE', 2: 'BBB_SALES', 3: 'FLOAT', 0: 1}, {1: 'REQUIRED', 2: 'ID', 3: 'INTEGER', 0: 2}])\n",
       "              .draw('full-hold');\n",
       "          });\n",
       "        }\n",
       "            </script>"
      ],
      "text/plain": [
       "<IPython.core.display.HTML object>"
      ]
     },
     "metadata": {},
     "output_type": "display_data"
    },
    {
     "data": {
      "application/javascript": [
       "\n",
       "        if (typeof window.interactive_beam_jquery == 'undefined') {\n",
       "          var jqueryScript = document.createElement('script');\n",
       "          jqueryScript.src = 'https://code.jquery.com/jquery-3.4.1.slim.min.js';\n",
       "          jqueryScript.type = 'text/javascript';\n",
       "          jqueryScript.onload = function() {\n",
       "            var datatableScript = document.createElement('script');\n",
       "            datatableScript.src = 'https://cdn.datatables.net/1.10.20/js/jquery.dataTables.min.js';\n",
       "            datatableScript.type = 'text/javascript';\n",
       "            datatableScript.onload = function() {\n",
       "              window.interactive_beam_jquery = jQuery.noConflict(true);\n",
       "              window.interactive_beam_jquery(document).ready(function($){\n",
       "                \n",
       "            $(\"#progress_indicator_344b6eb2ea190016597d33b3f1be5133\").remove();\n",
       "              });\n",
       "            }\n",
       "            document.head.appendChild(datatableScript);\n",
       "          };\n",
       "          document.head.appendChild(jqueryScript);\n",
       "        } else {\n",
       "          window.interactive_beam_jquery(document).ready(function($){\n",
       "            \n",
       "            $(\"#progress_indicator_344b6eb2ea190016597d33b3f1be5133\").remove();\n",
       "          });\n",
       "        }"
      ]
     },
     "metadata": {},
     "output_type": "display_data"
    }
   ],
   "source": [
    "ib.show(dynamic_schema)"
   ]
  },
  {
   "cell_type": "code",
   "execution_count": null,
   "id": "46e952fc-ebeb-4be8-acc4-0ac2b0361961",
   "metadata": {},
   "outputs": [],
   "source": []
  },
  {
   "cell_type": "code",
   "execution_count": null,
   "id": "5aea8ff7-4d5a-4384-892a-6167f92375d0",
   "metadata": {},
   "outputs": [],
   "source": []
  },
  {
   "cell_type": "code",
   "execution_count": null,
   "id": "2802835e-05ea-41e1-aa43-f9770c2bcec0",
   "metadata": {},
   "outputs": [],
   "source": []
  },
  {
   "cell_type": "code",
   "execution_count": null,
   "id": "faac3b28-7e1d-4b83-9dce-7084b9cb0bb4",
   "metadata": {},
   "outputs": [],
   "source": []
  },
  {
   "cell_type": "code",
   "execution_count": null,
   "id": "0722c747-64be-4714-9b75-35537896befe",
   "metadata": {},
   "outputs": [],
   "source": []
  },
  {
   "cell_type": "code",
   "execution_count": null,
   "id": "0dc76554-0a39-4dcd-9520-31cb1884d11f",
   "metadata": {},
   "outputs": [],
   "source": []
  },
  {
   "cell_type": "code",
   "execution_count": 59,
   "id": "19201f56-2d16-4cea-8d32-a56a2d6d1bcd",
   "metadata": {},
   "outputs": [],
   "source": [
    "t = (\"CLASS\" , ['AAA', 'BBB', 'AAA'])"
   ]
  },
  {
   "cell_type": "code",
   "execution_count": 61,
   "id": "7606cbea-8de8-4a31-8ade-240ae642cff8",
   "metadata": {},
   "outputs": [
    {
     "data": {
      "text/plain": [
       "['AAA', 'BBB', 'AAA']"
      ]
     },
     "execution_count": 61,
     "metadata": {},
     "output_type": "execute_result"
    }
   ],
   "source": [
    "t[1]"
   ]
  },
  {
   "cell_type": "code",
   "execution_count": null,
   "id": "37a730c9-8401-4851-9302-d55ab03237da",
   "metadata": {},
   "outputs": [],
   "source": []
  },
  {
   "cell_type": "code",
   "execution_count": null,
   "id": "ac845d12-3a4e-4a96-9ea6-d81f38156eec",
   "metadata": {},
   "outputs": [],
   "source": []
  },
  {
   "cell_type": "code",
   "execution_count": null,
   "id": "895ce051-5292-4244-9d36-5c5163353ea1",
   "metadata": {},
   "outputs": [],
   "source": []
  },
  {
   "cell_type": "code",
   "execution_count": null,
   "id": "3be4435b-6353-4dbe-ae2c-a9e714214d68",
   "metadata": {},
   "outputs": [],
   "source": []
  },
  {
   "cell_type": "code",
   "execution_count": null,
   "id": "69bde524-f3a6-4d97-8b68-c0c60df0d591",
   "metadata": {},
   "outputs": [],
   "source": []
  },
  {
   "cell_type": "code",
   "execution_count": null,
   "id": "385b354a-9f06-4df2-a4ef-de8c6d31d2a3",
   "metadata": {},
   "outputs": [],
   "source": []
  },
  {
   "cell_type": "code",
   "execution_count": null,
   "id": "e8953c79-2465-4092-bb57-a53a6bb50868",
   "metadata": {},
   "outputs": [],
   "source": []
  },
  {
   "cell_type": "code",
   "execution_count": 99,
   "id": "9b21f005-04f2-4bdc-9477-ac25a8e23b0e",
   "metadata": {},
   "outputs": [],
   "source": [
    "import typing"
   ]
  },
  {
   "cell_type": "code",
   "execution_count": null,
   "id": "41d64680-7420-4bc5-96bc-38eb81ef02de",
   "metadata": {},
   "outputs": [],
   "source": [
    "class Transaction(typing.NamedTuple):\n",
    "      bank: str\n",
    "      purchase_amount: float\n",
    "      \n",
    "      def AddField(self, field_name, field_type):\n",
    "        \n"
   ]
  },
  {
   "cell_type": "code",
   "execution_count": 116,
   "id": "fd601e2f-17e3-422b-962c-889f40b0a197",
   "metadata": {},
   "outputs": [],
   "source": [
    "class Transaction(typing.NamedTuple):\n",
    "  bank: str\n",
    "  purchase_amount: float\n",
    "\n",
    "with beam.Pipeline(InteractiveRunner()) as p:\n",
    "    \n",
    "    input = (p | beam.Create([(\"AAA\",23.2),(\"BBB\",4587.4)]).with_output_types(Transaction))\n",
    "            # )\n",
    "    # pc = (input | beam.Map()"
   ]
  },
  {
   "cell_type": "code",
   "execution_count": 117,
   "id": "13c176e3-92ec-4efa-94ba-1d582e5cd70d",
   "metadata": {},
   "outputs": [
    {
     "data": {
      "text/html": [
       "\n",
       "            <link rel=\"stylesheet\" href=\"https://stackpath.bootstrapcdn.com/bootstrap/4.4.1/css/bootstrap.min.css\" integrity=\"sha384-Vkoo8x4CGsO3+Hhxv8T/Q5PaXtkKtu6ug5TOeNV6gBiFeWPGFN9MuhOf23Q9Ifjh\" crossorigin=\"anonymous\">\n",
       "            <div id=\"progress_indicator_4223cb97eae33a2ca7eea6fcd352a17b\" class=\"spinner-border text-info\" role=\"status\">\n",
       "            </div>"
      ],
      "text/plain": [
       "<IPython.core.display.HTML object>"
      ]
     },
     "metadata": {},
     "output_type": "display_data"
    },
    {
     "data": {
      "text/html": [
       "\n",
       "            <style>\n",
       "            .p-Widget.jp-OutputPrompt.jp-OutputArea-prompt:empty {\n",
       "              padding: 0;\n",
       "              border: 0;\n",
       "            }\n",
       "            .p-Widget.jp-RenderedJavaScript.jp-mod-trusted.jp-OutputArea-output:empty {\n",
       "              padding: 0;\n",
       "              border: 0;\n",
       "            }\n",
       "            </style>\n",
       "            <link rel=\"stylesheet\" href=\"https://cdn.datatables.net/1.10.20/css/jquery.dataTables.min.css\">\n",
       "            <table id=\"table_df_c46e280ef16a5112fdb340d444727962\" class=\"display\" style=\"display:block\"></table>\n",
       "            <script>\n",
       "              \n",
       "        if (typeof window.interactive_beam_jquery == 'undefined') {\n",
       "          var jqueryScript = document.createElement('script');\n",
       "          jqueryScript.src = 'https://code.jquery.com/jquery-3.4.1.slim.min.js';\n",
       "          jqueryScript.type = 'text/javascript';\n",
       "          jqueryScript.onload = function() {\n",
       "            var datatableScript = document.createElement('script');\n",
       "            datatableScript.src = 'https://cdn.datatables.net/1.10.20/js/jquery.dataTables.min.js';\n",
       "            datatableScript.type = 'text/javascript';\n",
       "            datatableScript.onload = function() {\n",
       "              window.interactive_beam_jquery = jQuery.noConflict(true);\n",
       "              window.interactive_beam_jquery(document).ready(function($){\n",
       "                \n",
       "            var dt;\n",
       "            if ($.fn.dataTable.isDataTable(\"#table_df_c46e280ef16a5112fdb340d444727962\")) {\n",
       "              dt = $(\"#table_df_c46e280ef16a5112fdb340d444727962\").dataTable();\n",
       "            } else if ($(\"#table_df_c46e280ef16a5112fdb340d444727962_wrapper\").length == 0) {\n",
       "              dt = $(\"#table_df_c46e280ef16a5112fdb340d444727962\").dataTable({\n",
       "                \n",
       "            bAutoWidth: false,\n",
       "            columns: [{'title': ''}, {'title': 'bank'}, {'title': 'purchase_amount'}],\n",
       "            destroy: true,\n",
       "            responsive: true,\n",
       "            columnDefs: [\n",
       "              {\n",
       "                targets: \"_all\",\n",
       "                className: \"dt-left\"\n",
       "              },\n",
       "              {\n",
       "                \"targets\": 0,\n",
       "                \"width\": \"10px\",\n",
       "                \"title\": \"\"\n",
       "              }\n",
       "            ]\n",
       "              });\n",
       "            } else {\n",
       "              return;\n",
       "            }\n",
       "            dt.api()\n",
       "              .clear()\n",
       "              .rows.add([{1: 'AAA', 2: '23.2', 0: 0}, {1: 'BBB', 2: '4587.4', 0: 1}])\n",
       "              .draw('full-hold');\n",
       "              });\n",
       "            }\n",
       "            document.head.appendChild(datatableScript);\n",
       "          };\n",
       "          document.head.appendChild(jqueryScript);\n",
       "        } else {\n",
       "          window.interactive_beam_jquery(document).ready(function($){\n",
       "            \n",
       "            var dt;\n",
       "            if ($.fn.dataTable.isDataTable(\"#table_df_c46e280ef16a5112fdb340d444727962\")) {\n",
       "              dt = $(\"#table_df_c46e280ef16a5112fdb340d444727962\").dataTable();\n",
       "            } else if ($(\"#table_df_c46e280ef16a5112fdb340d444727962_wrapper\").length == 0) {\n",
       "              dt = $(\"#table_df_c46e280ef16a5112fdb340d444727962\").dataTable({\n",
       "                \n",
       "            bAutoWidth: false,\n",
       "            columns: [{'title': ''}, {'title': 'bank'}, {'title': 'purchase_amount'}],\n",
       "            destroy: true,\n",
       "            responsive: true,\n",
       "            columnDefs: [\n",
       "              {\n",
       "                targets: \"_all\",\n",
       "                className: \"dt-left\"\n",
       "              },\n",
       "              {\n",
       "                \"targets\": 0,\n",
       "                \"width\": \"10px\",\n",
       "                \"title\": \"\"\n",
       "              }\n",
       "            ]\n",
       "              });\n",
       "            } else {\n",
       "              return;\n",
       "            }\n",
       "            dt.api()\n",
       "              .clear()\n",
       "              .rows.add([{1: 'AAA', 2: '23.2', 0: 0}, {1: 'BBB', 2: '4587.4', 0: 1}])\n",
       "              .draw('full-hold');\n",
       "          });\n",
       "        }\n",
       "            </script>"
      ],
      "text/plain": [
       "<IPython.core.display.HTML object>"
      ]
     },
     "metadata": {},
     "output_type": "display_data"
    },
    {
     "data": {
      "application/javascript": [
       "\n",
       "        if (typeof window.interactive_beam_jquery == 'undefined') {\n",
       "          var jqueryScript = document.createElement('script');\n",
       "          jqueryScript.src = 'https://code.jquery.com/jquery-3.4.1.slim.min.js';\n",
       "          jqueryScript.type = 'text/javascript';\n",
       "          jqueryScript.onload = function() {\n",
       "            var datatableScript = document.createElement('script');\n",
       "            datatableScript.src = 'https://cdn.datatables.net/1.10.20/js/jquery.dataTables.min.js';\n",
       "            datatableScript.type = 'text/javascript';\n",
       "            datatableScript.onload = function() {\n",
       "              window.interactive_beam_jquery = jQuery.noConflict(true);\n",
       "              window.interactive_beam_jquery(document).ready(function($){\n",
       "                \n",
       "            $(\"#progress_indicator_4223cb97eae33a2ca7eea6fcd352a17b\").remove();\n",
       "              });\n",
       "            }\n",
       "            document.head.appendChild(datatableScript);\n",
       "          };\n",
       "          document.head.appendChild(jqueryScript);\n",
       "        } else {\n",
       "          window.interactive_beam_jquery(document).ready(function($){\n",
       "            \n",
       "            $(\"#progress_indicator_4223cb97eae33a2ca7eea6fcd352a17b\").remove();\n",
       "          });\n",
       "        }"
      ]
     },
     "metadata": {},
     "output_type": "display_data"
    }
   ],
   "source": [
    "ib.show(input)"
   ]
  },
  {
   "cell_type": "code",
   "execution_count": null,
   "id": "a3dedca9-622d-47fa-a70c-3f40e17344dc",
   "metadata": {},
   "outputs": [],
   "source": [
    "Transaction.AddFields("
   ]
  },
  {
   "cell_type": "code",
   "execution_count": null,
   "id": "833c55a2-e9c4-4cb6-83e7-bad6e41bcc05",
   "metadata": {},
   "outputs": [],
   "source": [
    "# AddFields\n",
    "with beam.Pipeline(InteractiveRunner()) as p:\n",
    "    (p | beam.Create([(\"AAA\",23.2)]).with_output_types(Transaction)\n",
    "     "
   ]
  },
  {
   "cell_type": "code",
   "execution_count": 107,
   "id": "9a141d89-3d54-43a3-8869-3fe91731e6d7",
   "metadata": {},
   "outputs": [],
   "source": [
    "with beam.Pipeline(InteractiveRunner()) as p:\n",
    "    lines = ( p\n",
    "                | \"Input File\" >> beam.Create(\n",
    "                    [\n",
    "                        {\"bank\":\"Adfj\",\"purchase\":234.45,\"notes\":\"dsjkfhdsj\"},\n",
    "                        {\"bank\":\"sdhf\",\"purchase\":56.45,\"notes\":\"sdf\"},\n",
    "                        {\"bank\":\"bbb\",\"purchase\":768.45,\"notes\":\"ddfsj\"},\n",
    "                        {\"bank\":\"ddd\",\"purchase\":245.45}\n",
    "                    ]\n",
    "                ))\n"
   ]
  },
  {
   "cell_type": "code",
   "execution_count": 108,
   "id": "beaa141b-4fad-4f2a-ba2f-473c46f058f8",
   "metadata": {},
   "outputs": [
    {
     "data": {
      "text/html": [
       "\n",
       "            <link rel=\"stylesheet\" href=\"https://stackpath.bootstrapcdn.com/bootstrap/4.4.1/css/bootstrap.min.css\" integrity=\"sha384-Vkoo8x4CGsO3+Hhxv8T/Q5PaXtkKtu6ug5TOeNV6gBiFeWPGFN9MuhOf23Q9Ifjh\" crossorigin=\"anonymous\">\n",
       "            <div id=\"progress_indicator_4a5127c6a6205de211f7d2f3c809c079\" class=\"spinner-border text-info\" role=\"status\">\n",
       "            </div>"
      ],
      "text/plain": [
       "<IPython.core.display.HTML object>"
      ]
     },
     "metadata": {},
     "output_type": "display_data"
    },
    {
     "data": {
      "text/html": [
       "\n",
       "            <style>\n",
       "            .p-Widget.jp-OutputPrompt.jp-OutputArea-prompt:empty {\n",
       "              padding: 0;\n",
       "              border: 0;\n",
       "            }\n",
       "            .p-Widget.jp-RenderedJavaScript.jp-mod-trusted.jp-OutputArea-output:empty {\n",
       "              padding: 0;\n",
       "              border: 0;\n",
       "            }\n",
       "            </style>\n",
       "            <link rel=\"stylesheet\" href=\"https://cdn.datatables.net/1.10.20/css/jquery.dataTables.min.css\">\n",
       "            <table id=\"table_df_996696ca15f3e8bfb8b0ba5d41de552d\" class=\"display\" style=\"display:block\"></table>\n",
       "            <script>\n",
       "              \n",
       "        if (typeof window.interactive_beam_jquery == 'undefined') {\n",
       "          var jqueryScript = document.createElement('script');\n",
       "          jqueryScript.src = 'https://code.jquery.com/jquery-3.4.1.slim.min.js';\n",
       "          jqueryScript.type = 'text/javascript';\n",
       "          jqueryScript.onload = function() {\n",
       "            var datatableScript = document.createElement('script');\n",
       "            datatableScript.src = 'https://cdn.datatables.net/1.10.20/js/jquery.dataTables.min.js';\n",
       "            datatableScript.type = 'text/javascript';\n",
       "            datatableScript.onload = function() {\n",
       "              window.interactive_beam_jquery = jQuery.noConflict(true);\n",
       "              window.interactive_beam_jquery(document).ready(function($){\n",
       "                \n",
       "            var dt;\n",
       "            if ($.fn.dataTable.isDataTable(\"#table_df_996696ca15f3e8bfb8b0ba5d41de552d\")) {\n",
       "              dt = $(\"#table_df_996696ca15f3e8bfb8b0ba5d41de552d\").dataTable();\n",
       "            } else if ($(\"#table_df_996696ca15f3e8bfb8b0ba5d41de552d_wrapper\").length == 0) {\n",
       "              dt = $(\"#table_df_996696ca15f3e8bfb8b0ba5d41de552d\").dataTable({\n",
       "                \n",
       "            bAutoWidth: false,\n",
       "            columns: [{'title': ''}, {'title': 'bank'}, {'title': 'purchase'}, {'title': 'notes'}],\n",
       "            destroy: true,\n",
       "            responsive: true,\n",
       "            columnDefs: [\n",
       "              {\n",
       "                targets: \"_all\",\n",
       "                className: \"dt-left\"\n",
       "              },\n",
       "              {\n",
       "                \"targets\": 0,\n",
       "                \"width\": \"10px\",\n",
       "                \"title\": \"\"\n",
       "              }\n",
       "            ]\n",
       "              });\n",
       "            } else {\n",
       "              return;\n",
       "            }\n",
       "            dt.api()\n",
       "              .clear()\n",
       "              .rows.add([{1: 'Adfj', 2: '234.45', 3: 'dsjkfhdsj', 0: 0}, {1: 'sdhf', 2: '56.45', 3: 'sdf', 0: 1}, {1: 'bbb', 2: '768.45', 3: 'ddfsj', 0: 2}, {1: 'ddd', 2: '245.45', 3: 'nan', 0: 3}])\n",
       "              .draw('full-hold');\n",
       "              });\n",
       "            }\n",
       "            document.head.appendChild(datatableScript);\n",
       "          };\n",
       "          document.head.appendChild(jqueryScript);\n",
       "        } else {\n",
       "          window.interactive_beam_jquery(document).ready(function($){\n",
       "            \n",
       "            var dt;\n",
       "            if ($.fn.dataTable.isDataTable(\"#table_df_996696ca15f3e8bfb8b0ba5d41de552d\")) {\n",
       "              dt = $(\"#table_df_996696ca15f3e8bfb8b0ba5d41de552d\").dataTable();\n",
       "            } else if ($(\"#table_df_996696ca15f3e8bfb8b0ba5d41de552d_wrapper\").length == 0) {\n",
       "              dt = $(\"#table_df_996696ca15f3e8bfb8b0ba5d41de552d\").dataTable({\n",
       "                \n",
       "            bAutoWidth: false,\n",
       "            columns: [{'title': ''}, {'title': 'bank'}, {'title': 'purchase'}, {'title': 'notes'}],\n",
       "            destroy: true,\n",
       "            responsive: true,\n",
       "            columnDefs: [\n",
       "              {\n",
       "                targets: \"_all\",\n",
       "                className: \"dt-left\"\n",
       "              },\n",
       "              {\n",
       "                \"targets\": 0,\n",
       "                \"width\": \"10px\",\n",
       "                \"title\": \"\"\n",
       "              }\n",
       "            ]\n",
       "              });\n",
       "            } else {\n",
       "              return;\n",
       "            }\n",
       "            dt.api()\n",
       "              .clear()\n",
       "              .rows.add([{1: 'Adfj', 2: '234.45', 3: 'dsjkfhdsj', 0: 0}, {1: 'sdhf', 2: '56.45', 3: 'sdf', 0: 1}, {1: 'bbb', 2: '768.45', 3: 'ddfsj', 0: 2}, {1: 'ddd', 2: '245.45', 3: 'nan', 0: 3}])\n",
       "              .draw('full-hold');\n",
       "          });\n",
       "        }\n",
       "            </script>"
      ],
      "text/plain": [
       "<IPython.core.display.HTML object>"
      ]
     },
     "metadata": {},
     "output_type": "display_data"
    },
    {
     "data": {
      "application/javascript": [
       "\n",
       "        if (typeof window.interactive_beam_jquery == 'undefined') {\n",
       "          var jqueryScript = document.createElement('script');\n",
       "          jqueryScript.src = 'https://code.jquery.com/jquery-3.4.1.slim.min.js';\n",
       "          jqueryScript.type = 'text/javascript';\n",
       "          jqueryScript.onload = function() {\n",
       "            var datatableScript = document.createElement('script');\n",
       "            datatableScript.src = 'https://cdn.datatables.net/1.10.20/js/jquery.dataTables.min.js';\n",
       "            datatableScript.type = 'text/javascript';\n",
       "            datatableScript.onload = function() {\n",
       "              window.interactive_beam_jquery = jQuery.noConflict(true);\n",
       "              window.interactive_beam_jquery(document).ready(function($){\n",
       "                \n",
       "            $(\"#progress_indicator_4a5127c6a6205de211f7d2f3c809c079\").remove();\n",
       "              });\n",
       "            }\n",
       "            document.head.appendChild(datatableScript);\n",
       "          };\n",
       "          document.head.appendChild(jqueryScript);\n",
       "        } else {\n",
       "          window.interactive_beam_jquery(document).ready(function($){\n",
       "            \n",
       "            $(\"#progress_indicator_4a5127c6a6205de211f7d2f3c809c079\").remove();\n",
       "          });\n",
       "        }"
      ]
     },
     "metadata": {},
     "output_type": "display_data"
    }
   ],
   "source": [
    "ib.show(lines)"
   ]
  },
  {
   "cell_type": "code",
   "execution_count": 122,
   "id": "4f287ca8-0dff-46b5-8ec8-8e00217430b0",
   "metadata": {},
   "outputs": [],
   "source": [
    "str_schema = 'ID:INTEGER,CLASS:STRING,SALES:FLOAT'"
   ]
  },
  {
   "cell_type": "code",
   "execution_count": 123,
   "id": "b1af5b4f-5768-4e72-b45c-8ef4e4f4ed13",
   "metadata": {},
   "outputs": [
    {
     "name": "stdout",
     "output_type": "stream",
     "text": [
      "<TableSchema\n",
      " fields: [<TableFieldSchema\n",
      " fields: []\n",
      " mode: 'NULLABLE'\n",
      " name: 'ID'\n",
      " type: 'INTEGER'>, <TableFieldSchema\n",
      " fields: []\n",
      " mode: 'NULLABLE'\n",
      " name: 'CLASS'\n",
      " type: 'STRING'>, <TableFieldSchema\n",
      " fields: []\n",
      " mode: 'NULLABLE'\n",
      " name: 'SALES'\n",
      " type: 'FLOAT'>]>\n"
     ]
    }
   ],
   "source": [
    "table_schema = bq.WriteToBigQuery.get_table_schema_from_string(str_schema)\n",
    "print(table_schema)"
   ]
  },
  {
   "cell_type": "code",
   "execution_count": 124,
   "id": "92710139-b3e7-44e8-a6ca-8bfcd948909b",
   "metadata": {},
   "outputs": [
    {
     "data": {
      "text/plain": [
       "{'fields': [{'name': 'ID', 'type': 'INTEGER', 'mode': 'NULLABLE'},\n",
       "  {'name': 'CLASS', 'type': 'STRING', 'mode': 'NULLABLE'},\n",
       "  {'name': 'SALES', 'type': 'FLOAT', 'mode': 'NULLABLE'}]}"
      ]
     },
     "execution_count": 124,
     "metadata": {},
     "output_type": "execute_result"
    }
   ],
   "source": [
    "bq.WriteToBigQuery.get_dict_table_schema(str_schema)"
   ]
  },
  {
   "cell_type": "code",
   "execution_count": 125,
   "id": "ade5b63d-2f3f-4f44-8340-2d34f4712eca",
   "metadata": {},
   "outputs": [
    {
     "data": {
      "text/plain": [
       "{'fields': [{'name': 'ID', 'type': 'INTEGER', 'mode': 'NULLABLE'},\n",
       "  {'name': 'CLASS', 'type': 'STRING', 'mode': 'NULLABLE'},\n",
       "  {'name': 'SALES', 'type': 'FLOAT', 'mode': 'NULLABLE'}]}"
      ]
     },
     "execution_count": 125,
     "metadata": {},
     "output_type": "execute_result"
    }
   ],
   "source": [
    "bq.WriteToBigQuery.get_dict_table_schema(table_schema)"
   ]
  },
  {
   "cell_type": "code",
   "execution_count": null,
   "id": "b3c176e3-651a-4b8d-9194-0734129581bc",
   "metadata": {},
   "outputs": [],
   "source": []
  }
 ],
 "metadata": {
  "kernelspec": {
   "display_name": "bq demo",
   "language": "python",
   "name": "venv_beam"
  },
  "language_info": {
   "codemirror_mode": {
    "name": "ipython",
    "version": 3
   },
   "file_extension": ".py",
   "mimetype": "text/x-python",
   "name": "python",
   "nbconvert_exporter": "python",
   "pygments_lexer": "ipython3",
   "version": "3.7.12"
  }
 },
 "nbformat": 4,
 "nbformat_minor": 5
}
